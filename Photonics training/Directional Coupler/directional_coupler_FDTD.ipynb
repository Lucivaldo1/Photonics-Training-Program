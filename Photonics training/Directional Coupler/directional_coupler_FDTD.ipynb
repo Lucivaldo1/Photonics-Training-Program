{
 "cells": [
  {
   "cell_type": "code",
   "id": "initial_id",
   "metadata": {
    "collapsed": true,
    "jupyter": {
     "is_executing": true
    }
   },
   "source": [
    "import sys, os\n",
    "import numpy as np\n",
    "import matplotlib.pyplot as plt\n",
    "import warnings\n",
    "import tools\n",
    "from scipy.constants import c, nu2lambda"
   ],
   "outputs": [],
   "execution_count": null
  },
  {
   "metadata": {
    "ExecuteTime": {
     "end_time": "2025-06-02T12:39:27.558931Z",
     "start_time": "2025-06-02T12:39:27.553990Z"
    }
   },
   "cell_type": "code",
   "source": [
    "from IPython.core.display import HTML\n",
    "from IPython.core.pylabtools import figsize\n",
    "from IPython.display import display, Math\n",
    "\n",
    "HTML(\"\"\"\n",
    "<style>\n",
    ".output_png{\n",
    "    display: table-cell;\n",
    "    text-align: center;\n",
    "    vertical-align: middle;\n",
    "}\n",
    "</style>\n",
    "\"\"\")"
   ],
   "id": "6a9db81650309e6b",
   "outputs": [
    {
     "data": {
      "text/plain": [
       "<IPython.core.display.HTML object>"
      ],
      "text/html": [
       "\n",
       "<style>\n",
       ".output_png{\n",
       "    display: table-cell;\n",
       "    text-align: center;\n",
       "    vertical-align: middle;\n",
       "}\n",
       "</style>\n"
      ]
     },
     "execution_count": 158,
     "metadata": {},
     "output_type": "execute_result"
    }
   ],
   "execution_count": 158
  },
  {
   "metadata": {
    "ExecuteTime": {
     "end_time": "2025-06-02T12:39:27.937363Z",
     "start_time": "2025-06-02T12:39:27.935200Z"
    }
   },
   "cell_type": "code",
   "source": "figsize(8,4)",
   "id": "16c0e2822f3ad3d1",
   "outputs": [],
   "execution_count": 159
  },
  {
   "metadata": {
    "ExecuteTime": {
     "end_time": "2025-06-02T12:39:28.369786Z",
     "start_time": "2025-06-02T12:39:28.367711Z"
    }
   },
   "cell_type": "code",
   "source": [
    "sys.path.append('C:\\\\Program Files\\\\Lumerical\\\\v221\\\\api\\\\python')\n",
    "sys.path.append('C:\\\\Program Files\\\\Lumerical\\\\v221\\\\api\\\\python\\\\lumapi.py')"
   ],
   "id": "82a49b341791ab82",
   "outputs": [],
   "execution_count": 160
  },
  {
   "metadata": {
    "ExecuteTime": {
     "end_time": "2025-06-02T12:39:30.430306Z",
     "start_time": "2025-06-02T12:39:28.718781Z"
    }
   },
   "cell_type": "code",
   "source": [
    "warnings.filterwarnings(\"ignore\", category=SyntaxWarning)\n",
    "import lumapi\n",
    "fdtdApi = lumapi.FDTD()"
   ],
   "id": "c298448faada7655",
   "outputs": [],
   "execution_count": 161
  },
  {
   "metadata": {
    "ExecuteTime": {
     "end_time": "2025-06-02T12:39:37.603158Z",
     "start_time": "2025-06-02T12:39:37.585417Z"
    }
   },
   "cell_type": "code",
   "source": [
    "fdtdApi.switchtolayout()\n",
    "fdtdApi.deleteall()"
   ],
   "id": "ecb9bb0f8ec502a5",
   "outputs": [],
   "execution_count": 162
  },
  {
   "metadata": {
    "ExecuteTime": {
     "end_time": "2025-06-02T12:39:38.089513Z",
     "start_time": "2025-06-02T12:39:38.086476Z"
    }
   },
   "cell_type": "code",
   "source": [
    "#units\n",
    "nm = 1e-9\n",
    "um = 1e-6"
   ],
   "id": "5a313d6e44a806a6",
   "outputs": [],
   "execution_count": 163
  },
  {
   "metadata": {
    "ExecuteTime": {
     "end_time": "2025-06-02T12:39:38.319766Z",
     "start_time": "2025-06-02T12:39:38.317295Z"
    }
   },
   "cell_type": "code",
   "source": [
    "# Parametros do acoplador direcional\n",
    "lc = 38.188*um\n",
    "gap = 200*nm\n",
    "rad = 5*um\n",
    "# Parametros do guia de onda\n",
    "wg_width = 500*nm\n",
    "wg_height = 220*nm\n",
    "# Materiais do guia de onda\n",
    "material_Clad = 'SiO2 (Glass) - Palik'\n",
    "material_core = 'Si (Silicon) - Palik'"
   ],
   "id": "acb232d05f198523",
   "outputs": [],
   "execution_count": 164
  },
  {
   "metadata": {
    "ExecuteTime": {
     "end_time": "2025-06-02T12:39:39.991235Z",
     "start_time": "2025-06-02T12:39:39.988578Z"
    }
   },
   "cell_type": "code",
   "source": [
    "#Banda de operação (banda C)\n",
    "wl_start = 1530*nm\n",
    "wl_stop = 1565*nm\n",
    "nbmFrqPnts = 21\n",
    "# Nome do arquivo\n",
    "filename = 'dc_FDTd_%d_nm_%03d_um'%(gap/nm,lc/um) "
   ],
   "id": "112433ced6861ac2",
   "outputs": [],
   "execution_count": 165
  },
  {
   "metadata": {
    "ExecuteTime": {
     "end_time": "2025-06-02T12:39:40.331246Z",
     "start_time": "2025-06-02T12:39:40.328147Z"
    }
   },
   "cell_type": "code",
   "source": [
    "## Configuração do FDTD\n",
    "# Tempo de simulação\n",
    "simulation_time = (np.pi*rad+lc)*7/c+200e-15\n",
    "\n",
    "# Dimensões da porta\n",
    "portSize = 2*um\n",
    "portBcDist = 6*um\n",
    "# Dimensões do volume do solver\n",
    "x_FDTD = lc/2 + 2*rad\n",
    "y_FDTD = -rad-gap/2-wg_height\n",
    "x_span_FDTD = lc+2*rad+portBcDist\n",
    "y_span_FDTD = 2*rad + gap + 2*wg_width+portSize\n",
    "z_span_FDTD = 5*um\n",
    "# Material\n",
    "backGroundMaterial = material_Clad\n",
    "# Precisão do mesh\n",
    "mesh_accuracy = 3\n",
    "# condições de fronteira\n",
    "z_min_bc = 'Symmetric'"
   ],
   "id": "dbdf876eb22916d6",
   "outputs": [],
   "execution_count": 166
  },
  {
   "metadata": {
    "ExecuteTime": {
     "end_time": "2025-06-02T12:39:40.700068Z",
     "start_time": "2025-06-02T12:39:40.696918Z"
    }
   },
   "cell_type": "code",
   "source": [
    "# Parametrosa das portas\n",
    "y_port_off = 0.5*um\n",
    "x_port = np.array([lc+3*rad, rad, lc+3*rad, rad])\n",
    "y_port = np.array([-(2*rad+gap+wg_width+y_port_off),-(2*rad+gap+wg_width+y_port_off),0+y_port_off,0+y_port_off])\n",
    "x_span_port = 4*um\n",
    "z_span_port = 4*um\n",
    "mode_selection = 'fundamental TE mode'\n",
    "injection_axis = 'y-axis'"
   ],
   "id": "1c0a17970c02f28",
   "outputs": [],
   "execution_count": 167
  },
  {
   "metadata": {},
   "cell_type": "markdown",
   "source": "## Criando dispositivo",
   "id": "8479f6eb4fae7228"
  },
  {
   "metadata": {
    "ExecuteTime": {
     "end_time": "2025-06-02T12:39:43.182596Z",
     "start_time": "2025-06-02T12:39:41.379553Z"
    }
   },
   "cell_type": "code",
   "source": [
    "for i in range(4):\n",
    "    fdtdApi.addobject('90_bend_wg')\n",
    "    fdtdApi.set('name',f'arco{i}')\n",
    "    fdtdApi.set('material',material_core)\n",
    "    fdtdApi.set('base width',wg_width)\n",
    "    fdtdApi.set('base height',wg_height)\n",
    "    fdtdApi.set('start angle', i*90)\n",
    "    fdtdApi.set('radius',rad)\n",
    "    fdtdApi.set('z',0)\n",
    "    \n",
    "fdtdApi.setnamed('arco0', 'x', 2*rad + lc)\n",
    "fdtdApi.setnamed('arco1', 'x', 2*rad)\n",
    "fdtdApi.setnamed('arco2', 'x', 2*rad)\n",
    "fdtdApi.setnamed('arco3', 'x', 2*rad + lc)\n",
    "\n",
    "fdtdApi.setnamed('arco0', 'y', -(gap+wg_width+2*rad))\n",
    "fdtdApi.setnamed('arco1', 'y', -(gap+wg_width+2*rad))\n",
    "fdtdApi.setnamed('arco2', 'y', 0)\n",
    "fdtdApi.setnamed('arco3', 'y', 0)\n",
    "\n",
    "for i in range(4):\n",
    "    fdtdApi.addrect()\n",
    "    fdtdApi.set('name',f'port{i}')\n",
    "    fdtdApi.set('material',material_core)\n",
    "    fdtdApi.set('x span',wg_width)\n",
    "    fdtdApi.set('y span',portSize)\n",
    "    fdtdApi.set('z span',wg_height)\n",
    "    fdtdApi.set('z',0)\n",
    "    \n",
    "fdtdApi.setnamed('port0', 'y', -(portSize/2 + 2*rad+gap+wg_width))\n",
    "fdtdApi.setnamed('port0', 'x', lc+3*rad)\n",
    "fdtdApi.setnamed('port1', 'y', -(portSize/2 + 2*rad+gap+wg_width))\n",
    "fdtdApi.setnamed('port1', 'x', rad)\n",
    "\n",
    "fdtdApi.setnamed('port2', 'y', portSize/2)\n",
    "fdtdApi.setnamed('port2', 'x', lc+3*rad)\n",
    "fdtdApi.setnamed('port3', 'y', portSize/2)\n",
    "fdtdApi.setnamed('port3', 'x', rad)\n",
    "\n",
    "fdtdApi.addrect()\n",
    "fdtdApi.set('name','wav01')\n",
    "fdtdApi.set('material',material_core)\n",
    "fdtdApi.set('x', 2*rad + lc/2)\n",
    "fdtdApi.set('x span',lc)\n",
    "fdtdApi.set('y', -rad)\n",
    "fdtdApi.set('y span',wg_width)\n",
    "fdtdApi.set('z',0)\n",
    "fdtdApi.set('z span',wg_height)\n",
    "\n",
    "fdtdApi.addrect()\n",
    "fdtdApi.set('name','wav02')\n",
    "fdtdApi.set('material',material_core)\n",
    "fdtdApi.set('x', 2*rad + lc/2)\n",
    "fdtdApi.set('x span',lc)\n",
    "fdtdApi.set('y', -rad-gap-wg_width)\n",
    "fdtdApi.set('y span',wg_width)\n",
    "fdtdApi.set('z',0)\n",
    "fdtdApi.set('z span',wg_height)"
   ],
   "id": "89bfe6a6d759b9f4",
   "outputs": [],
   "execution_count": 168
  },
  {
   "metadata": {},
   "cell_type": "markdown",
   "source": "## Adição do solver FDTD, porta e monitor",
   "id": "a8fe22dbb1674881"
  },
  {
   "metadata": {
    "ExecuteTime": {
     "end_time": "2025-05-05T09:19:53.831495Z",
     "start_time": "2025-05-05T09:19:51.873165Z"
    }
   },
   "cell_type": "code",
   "source": [
    "# solver\n",
    "fdtdApi.addfdtd()\n",
    "fdtdApi.set('x', x_FDTD)\n",
    "fdtdApi.set('x span', x_span_FDTD)\n",
    "fdtdApi.set('y', y_FDTD)\n",
    "fdtdApi.set('y span', y_span_FDTD)\n",
    "fdtdApi.set('z', 0)\n",
    "fdtdApi.set('z span', z_span_FDTD)\n",
    "fdtdApi.set('background material', backGroundMaterial)\n",
    "fdtdApi.set('mesh accuracy', mesh_accuracy)\n",
    "fdtdApi.set('simulation time', simulation_time)\n",
    "fdtdApi.set('z min bc', z_min_bc)"
   ],
   "id": "24e39fd1e7b2cfa4",
   "outputs": [],
   "execution_count": 14
  },
  {
   "metadata": {
    "ExecuteTime": {
     "end_time": "2025-05-05T09:20:00.396550Z",
     "start_time": "2025-05-05T09:19:53.835601Z"
    }
   },
   "cell_type": "code",
   "source": [
    "# portas\n",
    "for i in range(4):\n",
    "    fdtdApi.addport()\n",
    "    fdtdApi.set('name',f'port {i+1}')\n",
    "    fdtdApi.set('x',x_port[i])\n",
    "    fdtdApi.set('x span',x_span_port)\n",
    "    fdtdApi.set('y',y_port[i])\n",
    "    fdtdApi.set('z',0)\n",
    "    fdtdApi.set('z span',z_span_port)\n",
    "    fdtdApi.set('mode selection',mode_selection)\n",
    "    fdtdApi.set('injection axis',injection_axis)\n",
    "for i in range(4):\n",
    "    fdtdApi.select(f'FDTD::ports::port {i+1}')\n",
    "    fdtdApi.set('x span', 4*1e-6)\n",
    "fdtdApi.setnamed('FDTD::ports::port 3','direction','Backward')\n",
    "fdtdApi.setnamed('FDTD::ports::port 4','direction','Backward')"
   ],
   "id": "cc3224dc2dcb2f98",
   "outputs": [],
   "execution_count": 15
  },
  {
   "metadata": {
    "ExecuteTime": {
     "end_time": "2025-05-05T09:20:00.841865Z",
     "start_time": "2025-05-05T09:20:00.407123Z"
    }
   },
   "cell_type": "code",
   "source": [
    "# configuração da banda de simulação\n",
    "fdtdApi.setnamed('FDTD','global source wavelength start',wl_start)\n",
    "fdtdApi.setnamed('FDTD','global source wavelength stop',wl_stop)\n",
    "fdtdApi.setnamed('FDTD::ports','monitor frequency points',nbmFrqPnts)"
   ],
   "id": "3622fdc519b1b647",
   "outputs": [],
   "execution_count": 16
  },
  {
   "metadata": {
    "ExecuteTime": {
     "end_time": "2025-05-05T09:20:02.433094Z",
     "start_time": "2025-05-05T09:20:00.852233Z"
    }
   },
   "cell_type": "code",
   "source": [
    "# monitor de campo - lembrar de desativar para otimização\n",
    "fdtdApi.addprofile()\n",
    "fdtdApi.set('override global monitor settings', True)\n",
    "fdtdApi.set('frequency points', nbmFrqPnts)\n",
    "fdtdApi.set('x', x_FDTD)\n",
    "fdtdApi.set('x span', x_span_FDTD)\n",
    "fdtdApi.set('y', y_FDTD)\n",
    "fdtdApi.set('y span', y_span_FDTD)\n",
    "fdtdApi.set('z', 0)"
   ],
   "id": "350f984db0d70ca3",
   "outputs": [],
   "execution_count": 17
  },
  {
   "metadata": {
    "ExecuteTime": {
     "end_time": "2025-05-05T09:20:02.718759Z",
     "start_time": "2025-05-05T09:20:02.444258Z"
    }
   },
   "cell_type": "code",
   "source": [
    "# salvando arquivo\n",
    "filename ='dc_FDTD_%d_nm_%03d_um'%(gap*nm,lc*1e7)\n",
    "fdtdApi.save(filename)"
   ],
   "id": "37992e9d7af9e709",
   "outputs": [],
   "execution_count": 18
  },
  {
   "metadata": {
    "ExecuteTime": {
     "end_time": "2025-05-05T10:02:44.673199Z",
     "start_time": "2025-05-05T09:20:02.730666Z"
    }
   },
   "cell_type": "code",
   "source": [
    "#simulação\n",
    "fdtdApi.run(3)"
   ],
   "id": "122cd08986d5d1c7",
   "outputs": [],
   "execution_count": 19
  },
  {
   "metadata": {
    "ExecuteTime": {
     "end_time": "2025-05-05T10:02:45.294824Z",
     "start_time": "2025-05-05T10:02:44.679332Z"
    }
   },
   "cell_type": "code",
   "source": [
    "# importando campo elétrico\n",
    "eField = np.abs(np.squeeze(fdtdApi.getelectric('monitor')))**2"
   ],
   "id": "c8e2a4d5eb63584d",
   "outputs": [],
   "execution_count": 20
  },
  {
   "metadata": {
    "ExecuteTime": {
     "end_time": "2025-05-05T10:02:45.717638Z",
     "start_time": "2025-05-05T10:02:45.301640Z"
    }
   },
   "cell_type": "code",
   "source": [
    "# apresentação do campo eletrico obtido\n",
    "indxLamda = 10\n",
    "x_efielf = fdtdApi.getdata('monitor','x')\n",
    "y_efielf = fdtdApi.getdata('monitor','y')\n",
    "freq = fdtdApi.getdata('monitor','f')\n",
    "lmbd = c/freq\n",
    "xmin = um*np.min(x_efielf)\n",
    "xmax = um*np.max(x_efielf)\n",
    "ymin = um*np.min(y_efielf)\n",
    "ymax = um*np.max(y_efielf)"
   ],
   "id": "da1e563fbb8b2e43",
   "outputs": [],
   "execution_count": 21
  },
  {
   "metadata": {
    "ExecuteTime": {
     "end_time": "2025-05-05T10:02:46.268054Z",
     "start_time": "2025-05-05T10:02:45.729202Z"
    }
   },
   "cell_type": "code",
   "source": [
    "# Escala linear\n",
    "fig1 = plt.figure(figsize=(8,8))\n",
    "ax1 = fig1.add_subplot(111)\n",
    "\n",
    "im1 = ax1.imshow(np.rot90(eField[:,:,indxLamda]),cmap= 'jet', extent=[xmin,xmax,ymin,ymax], vmin=0,vmax=1)\n",
    "\n",
    "colorbar = plt.colorbar(im1, fraction=0.02, pad=0.04)\n",
    "colorbar.set_label(r'|E|$^2$')\n",
    "ax1.set_xlabel('x [um]')\n",
    "ax1.set_ylabel('y [um]')\n",
    "ax1.set_title(rf'{lmbd[indxLamda]/um} $\\mu$m')\n",
    "ax1.grid(which='major', alpha=0.25)\n",
    "plt.savefig(f'efield {filename} linear.png', bbox_inches='tight', dpi=300)\n",
    "plt.tight_layout()\n"
   ],
   "id": "cc075b59d75dbb22",
   "outputs": [
    {
     "data": {
      "text/plain": [
       "<Figure size 800x800 with 2 Axes>"
      ],
      "image/png": "[encoded data removed]"
     },
     "metadata": {},
     "output_type": "display_data"
    }
   ],
   "execution_count": 22
  },
  {
   "metadata": {
    "ExecuteTime": {
     "end_time": "2025-05-05T10:02:46.615979Z",
     "start_time": "2025-05-05T10:02:46.275560Z"
    }
   },
   "cell_type": "code",
   "source": [
    "# Escala logarítmica\n",
    "fig2 = plt.figure(figsize=(8,8))\n",
    "ax2 = fig2.add_subplot(111)\n",
    "im2 = ax2.imshow(10*np.log10(np.rot90(eField[:,:,indxLamda])),cmap= 'jet', extent=[xmin,xmax,ymin,ymax], vmin=-30,vmax=0)\n",
    "\n",
    "colorbar = plt.colorbar(im2, fraction=0.02, pad=0.04)\n",
    "colorbar.set_label(r'|E|$^2$ [dB]')\n",
    "\n",
    "ax2.set_xlabel('x [um]')\n",
    "ax2.set_ylabel('y [um]')\n",
    "ax2.set_title(rf'{lmbd[indxLamda]/um} $\\mu$m')\n",
    "ax2.grid(which='major', alpha=0.25)\n",
    "\n",
    "plt.tight_layout()\n",
    "plt.savefig(f'efield {filename} log.png', bbox_inches='tight', dpi=300)"
   ],
   "id": "746bf782823018bc",
   "outputs": [
    {
     "data": {
      "text/plain": [
       "<Figure size 800x800 with 2 Axes>"
      ],
      "image/png": "[encoded data removed]"
     },
     "metadata": {},
     "output_type": "display_data"
    }
   ],
   "execution_count": 23
  },
  {
   "metadata": {
    "ExecuteTime": {
     "end_time": "2025-05-05T10:02:47.385147Z",
     "start_time": "2025-05-05T10:02:46.625018Z"
    }
   },
   "cell_type": "code",
   "source": [
    "# Apresenta a transmissão do dispositivo em cada porta.\n",
    "fig3 = plt.figure(figsize=(8,6))\n",
    "for i in range(4):\n",
    "    ports = fdtdApi.getresult(\"FDTD::ports::port %d\" %(i+1), \"T\")\n",
    "    plt.plot(1e6*ports['lambda'], np.abs(ports[\"T\"]), label = \"Port %d\" %(i+1), linewidth = 2)\n",
    "\n",
    "#plt.plot([lmbd[indxLamda]/um, lmbd[indxLamda]/um], [0,1.1], 'k--')\n",
    "plt.vlines(1.5475,0,1)\n",
    "plt.xlabel(\"Wavelength [$\\mu$m]\")\n",
    "plt.ylabel(\"Transmission\")\n",
    "plt.xlim([wl_start/um, wl_stop/um])\n",
    "plt.ylim([-0.1,1.1])\n",
    "plt.title(rf\"Length = %.1f um\" %(lc/um))\n",
    "plt.grid(True)\n",
    "\n",
    "plt.gca().set_xticks(np.arange(1.53, 1.565, 0.01), minor=True)\n",
    "plt.gca().grid(which=\"minor\", alpha=0.25)\n",
    "\n",
    "plt.legend(loc='upper right')\n",
    "\n",
    "plt.tight_layout()\n",
    "plt.savefig('efield_' + filename + '_transmission.png', bbox_inches='tight')\n",
    "plt.show()\n"
   ],
   "id": "7b99c519c7e1a781",
   "outputs": [
    {
     "data": {
      "text/plain": [
       "<Figure size 800x600 with 1 Axes>"
      ],
      "image/png": "[encoded data removed]"
     },
     "metadata": {},
     "output_type": "display_data"
    }
   ],
   "execution_count": 24
  },
  {
   "metadata": {},
   "cell_type": "markdown",
   "source": "## Variando o comprimento de acoplamento",
   "id": "7a923c7f9608e533"
  },
  {
   "metadata": {
    "ExecuteTime": {
     "end_time": "2025-05-05T10:02:47.397311Z",
     "start_time": "2025-05-05T10:02:47.394082Z"
    }
   },
   "cell_type": "code",
   "source": "import scipy",
   "id": "65a69771b7ed40f4",
   "outputs": [],
   "execution_count": 25
  },
  {
   "metadata": {
    "ExecuteTime": {
     "end_time": "2025-05-05T10:02:47.718269Z",
     "start_time": "2025-05-05T10:02:47.407600Z"
    }
   },
   "cell_type": "code",
   "source": [
    "fdtdApi.switchtolayout()\n",
    "fdtdApi.setnamed('monitor','enabled',1)\n",
    "\n",
    "lc_start = 0*um\n",
    "lc_stop = 39*um\n",
    "lc_points = 20\n",
    "lc = np.linspace(lc_start, lc_stop, lc_points)"
   ],
   "id": "c87146f6e73bca6d",
   "outputs": [],
   "execution_count": 26
  },
  {
   "metadata": {
    "ExecuteTime": {
     "end_time": "2025-05-05T00:40:39.757580Z",
     "start_time": "2025-05-04T20:12:15.150922Z"
    }
   },
   "cell_type": "code",
   "source": [
    "ports = np.zeros([lc_points,4,nbmFrqPnts])\n",
    "\n",
    "for i in range(len(lc)):\n",
    "    lc_wav = lc[i]\n",
    "    fdtdApi.switchtolayout()\n",
    "    \n",
    "    simulation_time = (np.pi*rad+lc_wav)*7/c+200e-15\n",
    "    fdtdApi.setnamed('FDTD','simulation time',simulation_time)\n",
    "    \n",
    "    fdtdApi.setnamed('arco0','x',2*rad + lc_wav)\n",
    "    fdtdApi.setnamed('arco3','x',2*rad + lc_wav)\n",
    "    \n",
    "    if (lc_wav == 0):\n",
    "        fdtdApi.setnamed('wav01', 'enabled',0)\n",
    "        fdtdApi.setnamed('wav02', 'enabled',0)  \n",
    "    else:\n",
    "        fdtdApi.setnamed('wav01', 'enabled',1)\n",
    "        fdtdApi.setnamed('wav02', 'enabled',1)\n",
    "        fdtdApi.setnamed('wav01','x',2*rad + lc_wav/2)\n",
    "        fdtdApi.setnamed('wav01','x span',lc_wav)\n",
    "        fdtdApi.setnamed('wav02','x',2*rad + lc_wav/2)\n",
    "        fdtdApi.setnamed('wav02','x span',lc_wav)\n",
    "    \n",
    "    fdtdApi.setnamed('FDTD::ports::port 1','x',lc_wav+3*rad)\n",
    "    fdtdApi.setnamed('FDTD::ports::port 3','x',lc_wav+3*rad)\n",
    "    \n",
    "    fdtdApi.setnamed('FDTD', 'x', lc_wav/2 + 2*rad)\n",
    "    fdtdApi.setnamed('FDTD', 'x span', lc_wav + 2*rad + portBcDist)\n",
    "    \n",
    "    fdtdApi.setnamed('monitor','x', lc_wav/2 + 2*rad)\n",
    "    fdtdApi.setnamed('monitor','x span', lc_wav + 2*rad + portBcDist)\n",
    "    \n",
    "    filename = f'DC_FDTD_cBand_{gap/nm}_nm_{lc_wav/um}um'\n",
    "    fdtdApi.save(filename)\n",
    "    fdtdApi.run(3)\n",
    "    \n",
    "    for j in range(4):\n",
    "        ports[i,j,:] = fdtdApi.getresult(f\"FDTD::ports::port {j+1}\", \"T\")[\"T\"]"
   ],
   "id": "2eac2f3cd6c1ac37",
   "outputs": [],
   "execution_count": 120
  },
  {
   "metadata": {
    "ExecuteTime": {
     "end_time": "2025-05-05T00:40:40.064598Z",
     "start_time": "2025-05-05T00:40:39.924379Z"
    }
   },
   "cell_type": "code",
   "source": "wvl = fdtdApi.getresult('FDTD::ports::port 1', 'T')['lambda']",
   "id": "3d79bfb9be857f3",
   "outputs": [],
   "execution_count": 122
  },
  {
   "metadata": {
    "ExecuteTime": {
     "end_time": "2025-05-05T09:17:30.012814Z",
     "start_time": "2025-05-05T09:17:29.212141Z"
    }
   },
   "cell_type": "code",
   "source": [
    "from mpl_toolkits.axes_grid1.inset_locator import inset_axes, zoomed_inset_axes\n",
    "from mpl_toolkits.axes_grid1.inset_locator import mark_inset\n",
    "\n",
    "fig,ax = plt.subplots(figsize=(8,6))\n",
    "for i in range(6,15):\n",
    "    ax.plot(lc/um, np.abs(ports[:,3,i]), label = rf'{(wvl[i]/um).item():.2f} $\\mu$m', linewidth = 2)\n",
    "    \n",
    "ax.set_xlabel(\"Coupling length [um]\")\n",
    "ax.set_ylabel(\"Transmission\")\n",
    "ax.set_xlim([lc_start/um, lc_stop/um])\n",
    "ax.legend(bbox_to_anchor=(1.05, 1), loc='upper left')\n",
    "ax.grid(True)\n",
    "\n",
    "axins = zoomed_inset_axes(ax,2,loc=7,bbox_to_anchor=[550,200],borderpad=3)\n",
    "\n",
    "for i in range(6,15):\n",
    "    axins.plot(lc/um, np.abs(ports[:,3,i]),'o-' ,label = rf'{(wvl[i]/um).item():.2f} $\\mu$m', linewidth = 2)\n",
    "axins.set_xlim(9, 12)\n",
    "axins.set_ylim(0.4, 0.6)\n",
    "\n",
    "axins.yaxis.get_major_locator().set_params(nbins=4)\n",
    "axins.xaxis.get_major_locator().set_params(nbins=4)\n",
    "axins.grid()\n",
    "\n",
    "mark_inset(ax, axins, loc1=2, loc2=4, fc=\"none\", ec=\"0.5\")\n",
    "plt.draw()\n",
    "plt.tight_layout()\n",
    "plt.savefig('acoplamento_versus_lambda.png', bbox_inches='tight')"
   ],
   "id": "ae72369cbf3fa740",
   "outputs": [
    {
     "ename": "NameError",
     "evalue": "name 'plt' is not defined",
     "output_type": "error",
     "traceback": [
      "\u001B[1;31m---------------------------------------------------------------------------\u001B[0m",
      "\u001B[1;31mNameError\u001B[0m                                 Traceback (most recent call last)",
      "Cell \u001B[1;32mIn[1], line 4\u001B[0m\n\u001B[0;32m      1\u001B[0m \u001B[38;5;28;01mfrom\u001B[39;00m \u001B[38;5;21;01mmpl_toolkits\u001B[39;00m\u001B[38;5;21;01m.\u001B[39;00m\u001B[38;5;21;01maxes_grid1\u001B[39;00m\u001B[38;5;21;01m.\u001B[39;00m\u001B[38;5;21;01minset_locator\u001B[39;00m \u001B[38;5;28;01mimport\u001B[39;00m inset_axes, zoomed_inset_axes\n\u001B[0;32m      2\u001B[0m \u001B[38;5;28;01mfrom\u001B[39;00m \u001B[38;5;21;01mmpl_toolkits\u001B[39;00m\u001B[38;5;21;01m.\u001B[39;00m\u001B[38;5;21;01maxes_grid1\u001B[39;00m\u001B[38;5;21;01m.\u001B[39;00m\u001B[38;5;21;01minset_locator\u001B[39;00m \u001B[38;5;28;01mimport\u001B[39;00m mark_inset\n\u001B[1;32m----> 4\u001B[0m fig,ax \u001B[38;5;241m=\u001B[39m \u001B[43mplt\u001B[49m\u001B[38;5;241m.\u001B[39msubplots(figsize\u001B[38;5;241m=\u001B[39m(\u001B[38;5;241m8\u001B[39m,\u001B[38;5;241m6\u001B[39m))\n\u001B[0;32m      5\u001B[0m \u001B[38;5;28;01mfor\u001B[39;00m i \u001B[38;5;129;01min\u001B[39;00m \u001B[38;5;28mrange\u001B[39m(\u001B[38;5;241m6\u001B[39m,\u001B[38;5;241m15\u001B[39m):\n\u001B[0;32m      6\u001B[0m     ax\u001B[38;5;241m.\u001B[39mplot(lc\u001B[38;5;241m/\u001B[39mum, np\u001B[38;5;241m.\u001B[39mabs(ports[:,\u001B[38;5;241m3\u001B[39m,i]), label \u001B[38;5;241m=\u001B[39m \u001B[38;5;124mrf\u001B[39m\u001B[38;5;124m'\u001B[39m\u001B[38;5;132;01m{\u001B[39;00m(wvl[i]\u001B[38;5;241m/\u001B[39mum)\u001B[38;5;241m.\u001B[39mitem()\u001B[38;5;132;01m:\u001B[39;00m\u001B[38;5;124m.2f\u001B[39m\u001B[38;5;132;01m}\u001B[39;00m\u001B[38;5;124m $\u001B[39m\u001B[38;5;124m\\\u001B[39m\u001B[38;5;124mmu$m\u001B[39m\u001B[38;5;124m'\u001B[39m, linewidth \u001B[38;5;241m=\u001B[39m \u001B[38;5;241m2\u001B[39m)\n",
      "\u001B[1;31mNameError\u001B[0m: name 'plt' is not defined"
     ]
    }
   ],
   "execution_count": 1
  },
  {
   "metadata": {},
   "cell_type": "markdown",
   "source": "## Tamanho otimizado",
   "id": "fba89608a70f9e10"
  },
  {
   "metadata": {
    "ExecuteTime": {
     "end_time": "2025-05-05T10:02:50.255142Z",
     "start_time": "2025-05-05T10:02:47.732550Z"
    }
   },
   "cell_type": "code",
   "source": [
    "lc_wav = 19.1*um\n",
    "fdtdApi.switchtolayout()\n",
    "\n",
    "simulation_time = (np.pi*rad+lc_wav)*7/c+200e-15\n",
    "fdtdApi.setnamed('FDTD','simulation time',simulation_time)\n",
    "\n",
    "fdtdApi.setnamed('arco0','x',2*rad + lc_wav)\n",
    "fdtdApi.setnamed('arco3','x',2*rad + lc_wav)\n",
    "\n",
    "fdtdApi.setnamed('wav01', 'enabled',1)\n",
    "fdtdApi.setnamed('wav02', 'enabled',1)\n",
    "fdtdApi.setnamed('wav01','x',2*rad + lc_wav/2)\n",
    "fdtdApi.setnamed('wav01','x span',lc_wav)\n",
    "fdtdApi.setnamed('wav02','x',2*rad + lc_wav/2)\n",
    "fdtdApi.setnamed('wav02','x span',lc_wav)\n",
    "\n",
    "fdtdApi.setnamed('port0','x',lc_wav+3*rad)\n",
    "fdtdApi.setnamed('port2','x',lc_wav+3*rad)\n",
    "\n",
    "fdtdApi.setnamed('FDTD::ports::port 1','x',lc_wav+3*rad)\n",
    "fdtdApi.setnamed('FDTD::ports::port 3','x',lc_wav+3*rad)\n",
    "\n",
    "fdtdApi.setnamed('FDTD', 'x', lc_wav/2 + 2*rad)\n",
    "fdtdApi.setnamed('FDTD', 'x span', lc_wav + 2*rad + portBcDist)\n",
    "\n",
    "fdtdApi.setnamed('monitor','x', lc_wav/2 + 2*rad)\n",
    "fdtdApi.setnamed('monitor','x span', lc_wav + 2*rad + portBcDist)"
   ],
   "id": "dada9c2d84088101",
   "outputs": [],
   "execution_count": 27
  },
  {
   "metadata": {
    "ExecuteTime": {
     "end_time": "2025-05-05T10:18:52.534717Z",
     "start_time": "2025-05-05T10:02:50.270352Z"
    }
   },
   "cell_type": "code",
   "source": [
    "filename = f'DC_FDTD_cBand_{gap/nm}_nm_{lc_wav/um}um'\n",
    "fdtdApi.save(filename)\n",
    "fdtdApi.run(3)"
   ],
   "id": "683c06e4256f22c9",
   "outputs": [],
   "execution_count": 28
  },
  {
   "metadata": {
    "ExecuteTime": {
     "end_time": "2025-05-05T10:18:53.249549Z",
     "start_time": "2025-05-05T10:18:52.550661Z"
    }
   },
   "cell_type": "code",
   "source": [
    "ports_opt = np.zeros((nbmFrqPnts,4))\n",
    "for i in range(4):\n",
    "    ports_opt[:,i] = fdtdApi.getresult(f\"FDTD::ports::port {i+1}\", \"T\")[\"T\"]\n",
    "wvl_opt = fdtdApi.getresult('FDTD::ports::port 1', 'T')['lambda']"
   ],
   "id": "c3ba6885ed889f96",
   "outputs": [],
   "execution_count": 29
  },
  {
   "metadata": {
    "ExecuteTime": {
     "end_time": "2025-05-05T10:27:51.342053Z",
     "start_time": "2025-05-05T10:27:51.241539Z"
    }
   },
   "cell_type": "code",
   "source": [
    "fig = plt.figure(figsize=(8,6))\n",
    "for i in range(4):\n",
    "    plt.plot(wvl_opt*um, np.abs(ports_opt[:,i]), label = \"Port %d\" %(i+1), linewidth = 2)\n",
    "\n",
    "plt.xlabel(\"Wavelength [$\\mu$m]\")\n",
    "plt.ylabel(\"Transmission\")\n",
    "plt.xlim([wl_start*um, wl_stop*um])\n",
    "plt.grid(True)\n",
    "plt.legend(loc='upper right')\n",
    "plt.savefig('dc_05_otimizado.png', bbox_inches='tight')"
   ],
   "id": "a6c6f7b1c9baf3e",
   "outputs": [
    {
     "data": {
      "text/plain": [
       "<Figure size 800x600 with 1 Axes>"
      ],
      "image/png": "[encoded data removed]"
     },
     "metadata": {},
     "output_type": "display_data"
    }
   ],
   "execution_count": 39
  }
 ],
 "metadata": {
  "kernelspec": {
   "display_name": "Python 3",
   "language": "python",
   "name": "python3"
  },
  "language_info": {
   "codemirror_mode": {
    "name": "ipython",
    "version": 2
   },
   "file_extension": ".py",
   "mimetype": "text/x-python",
   "name": "python",
   "nbconvert_exporter": "python",
   "pygments_lexer": "ipython2",
   "version": "2.7.6"
  }
 },
 "nbformat": 4,
 "nbformat_minor": 5
}
