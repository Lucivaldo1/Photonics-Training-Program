{
 "cells": [
  {
   "cell_type": "code",
   "id": "initial_id",
   "metadata": {
    "collapsed": true,
    "ExecuteTime": {
     "end_time": "2024-11-01T14:28:29.665219Z",
     "start_time": "2024-11-01T14:28:29.662392Z"
    }
   },
   "source": [
    "import sys, os\n",
    "import numpy as np\n",
    "import matplotlib.pyplot as plt\n",
    "import warnings"
   ],
   "outputs": [],
   "execution_count": 96
  },
  {
   "metadata": {
    "ExecuteTime": {
     "end_time": "2024-11-01T14:28:29.669516Z",
     "start_time": "2024-11-01T14:28:29.667228Z"
    }
   },
   "cell_type": "code",
   "source": [
    "sys.path.append('C:\\\\Program Files\\\\Lumerical\\\\v221\\\\api\\\\python')\n",
    "sys.path.append('C:\\\\Program Files\\\\Lumerical\\\\v221\\\\api\\\\python\\\\lumapi.py')"
   ],
   "id": "afffe0727a52e35",
   "outputs": [],
   "execution_count": 97
  },
  {
   "metadata": {
    "ExecuteTime": {
     "end_time": "2024-11-01T14:28:29.677653Z",
     "start_time": "2024-11-01T14:28:29.675538Z"
    }
   },
   "cell_type": "code",
   "source": [
    "warnings.filterwarnings(\"ignore\", category=SyntaxWarning)\n",
    "import lumapi"
   ],
   "id": "47238a17ee0383dc",
   "outputs": [],
   "execution_count": 98
  },
  {
   "metadata": {
    "ExecuteTime": {
     "end_time": "2024-11-01T14:28:29.684771Z",
     "start_time": "2024-11-01T14:28:29.682950Z"
    }
   },
   "cell_type": "code",
   "source": [
    "nm = 1e-9\n",
    "um = 1e-6"
   ],
   "id": "137366d262092d81",
   "outputs": [],
   "execution_count": 99
  },
  {
   "metadata": {
    "ExecuteTime": {
     "end_time": "2024-11-01T14:28:31.662472Z",
     "start_time": "2024-11-01T14:28:29.690497Z"
    }
   },
   "cell_type": "code",
   "source": "modeApi = lumapi.MODE()",
   "id": "b9e7b49a301d45b7",
   "outputs": [],
   "execution_count": 100
  },
  {
   "metadata": {},
   "cell_type": "markdown",
   "source": "Waveguide 1",
   "id": "bf7be7265c63cc75"
  },
  {
   "metadata": {
    "ExecuteTime": {
     "end_time": "2024-11-01T14:28:31.826449Z",
     "start_time": "2024-11-01T14:28:31.819955Z"
    }
   },
   "cell_type": "code",
   "source": [
    "waveguide_material = 'Si (Silicon) - Palik'\n",
    "index = 1.5 \n",
    "waveguide_length = 10*um\n",
    "waveguide_width = 0.5*um\n",
    "waveguide_radius = 25*um\n",
    "waveguide_Htotal =0.22*um"
   ],
   "id": "7f6e9123cf5a5e33",
   "outputs": [],
   "execution_count": 101
  },
  {
   "metadata": {
    "ExecuteTime": {
     "end_time": "2024-11-01T14:28:31.835245Z",
     "start_time": "2024-11-01T14:28:31.832843Z"
    }
   },
   "cell_type": "code",
   "source": [
    "m = 0.533333\n",
    "y_span = 15*um"
   ],
   "id": "b1e76dcc123e06f4",
   "outputs": [],
   "execution_count": 102
  },
  {
   "metadata": {
    "ExecuteTime": {
     "end_time": "2024-11-02T13:34:57.921937Z",
     "start_time": "2024-11-02T13:34:57.643382Z"
    }
   },
   "cell_type": "code",
   "source": [
    "modeApi.switchtolayout()\n",
    "modeApi.deleteall()\n",
    "modeApi.cleardcard"
   ],
   "id": "3fc877dcc12f9614",
   "outputs": [
    {
     "data": {
      "text/plain": [
       "<bound method Lumerical.__init__.<locals>.<lambda>.<locals>.<lambda> of <lumapi.MODE object at 0x0000025688061580>>"
      ]
     },
     "execution_count": 141,
     "metadata": {},
     "output_type": "execute_result"
    }
   ],
   "execution_count": 141
  },
  {
   "metadata": {
    "ExecuteTime": {
     "end_time": "2024-11-01T14:32:44.858581Z",
     "start_time": "2024-11-01T14:32:43.462962Z"
    }
   },
   "cell_type": "code",
   "source": [
    "modeApi.addrect()\n",
    "modeApi.set('name', 'waveguide')\n",
    "modeApi.set('x min', -waveguide_length)\n",
    "modeApi.set('x max', 0)\n",
    "modeApi.set('y span', waveguide_width)\n",
    "modeApi.set('z min', 0)\n",
    "modeApi.set('z max', waveguide_Htotal)"
   ],
   "id": "e0d15c9e2f591933",
   "outputs": [],
   "execution_count": 121
  },
  {
   "metadata": {},
   "cell_type": "markdown",
   "source": "Taper",
   "id": "1de445667c98ff76"
  },
  {
   "metadata": {
    "ExecuteTime": {
     "end_time": "2024-11-02T13:35:54.428165Z",
     "start_time": "2024-11-02T13:35:52.610530Z"
    }
   },
   "cell_type": "code",
   "source": [
    "theta = np.sin(0.5*y_span/waveguide_radius) * 180/np.pi\n",
    "modeApi.addcustom()\n",
    "modeApi.set('x min', 0)\n",
    "modeApi.set('x max', 10*um)\n",
    "modeApi.set('z min', 0)\n",
    "modeApi.set('z max', waveguide_Htotal)\n",
    "modeApi.set('y span', y_span)\n",
    "Ltaper = modeApi.get('x span')*um\n",
    "w0 = 1\n",
    "wf = 0.1\n",
    "L = 10\n",
    "alpha = np.log(w0/wf) / L\n",
    "z0 = modeApi.get('x min')\n",
    "z1 = modeApi.get('x max')\n",
    "\n",
    "equation = '-(exp((x-' + str(z0) + ')/ ' + str(z1) + '-'+str(z0)+') - 1)/(exp(1)-1)'\n",
    "print(equation)\n",
    "#equation = str(w0) + '*exp(' + str(alpha) + '*x)'\n",
    "modeApi.set('equation 1', equation)"
   ],
   "id": "82d5717f1db42ed3",
   "outputs": [
    {
     "name": "stdout",
     "output_type": "stream",
     "text": [
      "{!!}\n",
      "\n",
      "-(exp((x-0.0)/ 9.999999999999999e-06-0.0) - 1)/(exp(1)-1)\n"
     ]
    }
   ],
   "execution_count": 145
  },
  {
   "metadata": {
    "ExecuteTime": {
     "end_time": "2024-11-01T14:34:22.055233Z",
     "start_time": "2024-11-01T14:34:20.531174Z"
    }
   },
   "cell_type": "code",
   "source": [
    "modeApi.addrect()\n",
    "modeApi.set(\"name\",\"slab\")\n",
    "modeApi.set(\"x min\",L*um)\n",
    "modeApi.set(\"x max\",waveguide_radius * np.cos(theta*np.pi/180)+20e-6)\n",
    "modeApi.set(\"y\",0)\n",
    "modeApi.set(\"y span\",6.4*um)\n",
    "modeApi.set(\"z min\",0)\n",
    "modeApi.set(\"z max\",waveguide_Htotal)"
   ],
   "id": "570882520325a3b",
   "outputs": [],
   "execution_count": 126
  },
  {
   "metadata": {
    "ExecuteTime": {
     "end_time": "2024-11-02T13:28:34.993941Z",
     "start_time": "2024-11-02T13:28:34.578645Z"
    }
   },
   "cell_type": "code",
   "source": [
    "modeApi.selectall()\n",
    "modeApi.set('material',waveguide_material)\n",
    "if (modeApi.get('material') == '<Object defined dielectric>'):\n",
    "    modeApi.set('index', index)"
   ],
   "id": "9d0a0be1f25e3287",
   "outputs": [],
   "execution_count": 138
  },
  {
   "metadata": {
    "ExecuteTime": {
     "end_time": "2024-11-01T14:28:37.076539Z",
     "start_time": "2024-11-01T14:28:37.073808Z"
    }
   },
   "cell_type": "code",
   "source": "",
   "id": "e8aa85a33fecdce7",
   "outputs": [],
   "execution_count": null
  }
 ],
 "metadata": {
  "kernelspec": {
   "display_name": "Python 3",
   "language": "python",
   "name": "python3"
  },
  "language_info": {
   "codemirror_mode": {
    "name": "ipython",
    "version": 2
   },
   "file_extension": ".py",
   "mimetype": "text/x-python",
   "name": "python",
   "nbconvert_exporter": "python",
   "pygments_lexer": "ipython2",
   "version": "2.7.6"
  }
 },
 "nbformat": 4,
 "nbformat_minor": 5
}
