{
 "cells": [
  {
   "cell_type": "code",
   "id": "initial_id",
   "metadata": {
    "collapsed": true,
    "ExecuteTime": {
     "end_time": "2025-02-11T10:57:03.014172Z",
     "start_time": "2025-02-11T10:57:02.781649Z"
    }
   },
   "source": [
    "import sys, os\n",
    "import numpy as np\n",
    "import matplotlib.pyplot as plt\n",
    "import warnings\n",
    "\n",
    "import derivative"
   ],
   "outputs": [],
   "execution_count": 1
  },
  {
   "metadata": {
    "ExecuteTime": {
     "end_time": "2025-02-11T10:57:03.017980Z",
     "start_time": "2025-02-11T10:57:03.014952Z"
    }
   },
   "cell_type": "code",
   "source": [
    "sys.path.append('C:\\\\Program Files\\\\Lumerical\\\\v221\\\\api\\\\python')\n",
    "sys.path.append('C:\\\\Program Files\\\\Lumerical\\\\v221\\\\api\\\\python\\\\lumapi.py')"
   ],
   "id": "91dec71402e2fc67",
   "outputs": [],
   "execution_count": 2
  },
  {
   "metadata": {
    "ExecuteTime": {
     "end_time": "2025-02-11T10:57:03.092935Z",
     "start_time": "2025-02-11T10:57:03.082811Z"
    }
   },
   "cell_type": "code",
   "source": [
    "warnings.filterwarnings(\"ignore\", category=SyntaxWarning)\n",
    "import lumapi"
   ],
   "id": "c7457133c8ba8afb",
   "outputs": [],
   "execution_count": 3
  },
  {
   "metadata": {
    "ExecuteTime": {
     "end_time": "2025-02-11T10:57:03.098138Z",
     "start_time": "2025-02-11T10:57:03.096338Z"
    }
   },
   "cell_type": "code",
   "source": [
    "nm = 1e-9\n",
    "um = 1e-6\n",
    "c = 3e8"
   ],
   "id": "c950c530b2eae861",
   "outputs": [],
   "execution_count": 4
  },
  {
   "metadata": {
    "ExecuteTime": {
     "end_time": "2025-02-11T10:57:05.067009Z",
     "start_time": "2025-02-11T10:57:03.104064Z"
    }
   },
   "cell_type": "code",
   "source": "emeApi = lumapi.MODE()",
   "id": "a28916249c98f869",
   "outputs": [],
   "execution_count": 5
  },
  {
   "metadata": {
    "ExecuteTime": {
     "end_time": "2025-02-11T10:57:05.484615Z",
     "start_time": "2025-02-11T10:57:05.209084Z"
    }
   },
   "cell_type": "code",
   "source": [
    "emeApi.switchtolayout()\n",
    "emeApi.deleteall()"
   ],
   "id": "baae8b631e54afbb",
   "outputs": [],
   "execution_count": 6
  },
  {
   "metadata": {
    "ExecuteTime": {
     "end_time": "2025-02-11T10:57:05.496083Z",
     "start_time": "2025-02-11T10:57:05.493006Z"
    }
   },
   "cell_type": "code",
   "source": [
    "materialClad = \"SiO2 (Glass) - Palik\"\n",
    "materialSi = \"Si (Silicon) - Palik\""
   ],
   "id": "fc3617b2887ae9e5",
   "outputs": [],
   "execution_count": 7
  },
  {
   "metadata": {
    "ExecuteTime": {
     "end_time": "2025-02-11T10:57:05.501954Z",
     "start_time": "2025-02-11T10:57:05.499466Z"
    }
   },
   "cell_type": "code",
   "source": [
    "#slab data\n",
    "width = 450*nm\n",
    "height = 220*nm\n",
    "length = 155.287078587044064*um\n"
   ],
   "id": "52a6ccbf77a6eb5e",
   "outputs": [],
   "execution_count": 8
  },
  {
   "metadata": {
    "ExecuteTime": {
     "end_time": "2025-02-11T10:57:06.197218Z",
     "start_time": "2025-02-11T10:57:05.504789Z"
    }
   },
   "cell_type": "code",
   "source": [
    "emeApi.addstructuregroup()\n",
    "dev_layer = 'GDS_LAYER_35:4'\n",
    "emeApi.set('name', dev_layer)"
   ],
   "id": "5fac3ba025f8003b",
   "outputs": [],
   "execution_count": 9
  },
  {
   "metadata": {
    "ExecuteTime": {
     "end_time": "2025-02-11T10:57:08.040647Z",
     "start_time": "2025-02-11T10:57:06.204870Z"
    }
   },
   "cell_type": "code",
   "source": [
    "emeApi.addrect()\n",
    "emeApi.addtogroup(dev_layer)\n",
    "emeApi.set('name','slab')\n",
    "emeApi.set('x',0)\n",
    "emeApi.set('x span', length)\n",
    "emeApi.set('y',0)\n",
    "emeApi.set('y span', width)\n",
    "emeApi.set('z',height/2)\n",
    "emeApi.set('z span', height)\n",
    "emeApi.set('material', materialSi)"
   ],
   "id": "a6889724f29bf30c",
   "outputs": [],
   "execution_count": 10
  },
  {
   "metadata": {},
   "cell_type": "markdown",
   "source": "FDE settings - to get neff vs wavelength",
   "id": "7744c3aef7d3358e"
  },
  {
   "metadata": {
    "ExecuteTime": {
     "end_time": "2025-02-11T10:57:08.603805Z",
     "start_time": "2025-02-11T10:57:08.049822Z"
    }
   },
   "cell_type": "code",
   "source": [
    "emeApi.addfde()\n",
    "bound_x_offset = 0.5*um\n",
    "bound_y_offset = 2*um\n",
    "bound_z_offset = 0.5*um\n",
    "\n"
   ],
   "id": "a555af13c41dccc1",
   "outputs": [],
   "execution_count": 11
  },
  {
   "metadata": {
    "ExecuteTime": {
     "end_time": "2025-02-11T10:57:10.313036Z",
     "start_time": "2025-02-11T10:57:08.610477Z"
    }
   },
   "cell_type": "code",
   "source": [
    "emeApi.set('solver type', '2D X normal')\n",
    "emeApi.set('background material', 'SiO2 (Glass) - Palik')\n",
    "emeApi.set('x',0)\n",
    "emeApi.set('y', 0)\n",
    "emeApi.set('y span', width + 2*bound_y_offset)\n",
    "emeApi.set('z', height/2)\n",
    "\n",
    "emeApi.set('mesh cells y', 100)\n",
    "emeApi.set('mesh cells z', 100)\n",
    "emeApi.set('y min bc', 'Metal')\n",
    "emeApi.set('y max bc', 'Metal')\n",
    "emeApi.set('z min bc', 'Metal')\n",
    "emeApi.set('z max bc', 'Metal')"
   ],
   "id": "c2e27b24ea3a4e3e",
   "outputs": [],
   "execution_count": 12
  },
  {
   "metadata": {
    "ExecuteTime": {
     "end_time": "2025-02-11T10:58:13.496456Z",
     "start_time": "2025-02-11T10:57:10.324186Z"
    }
   },
   "cell_type": "code",
   "source": [
    "emeApi.switchtolayout()\n",
    "emeApi.set('track selected mode', 1)\n",
    "emeApi.set('number of points', 100)\n",
    "emeApi.set('wavelength', 1.6*um)\n",
    "emeApi.set('stop wavelength', 1.5*um)\n",
    "emeApi.findmodes()\n",
    "emeApi.selectmode(1)\n",
    "neff_mode1 = []\n",
    "\n",
    "emeApi.frequencysweep()\n",
    "\n",
    "neff_sweep = emeApi.real(emeApi.getdata('FDE::data::frequencysweep', 'neff'))\n",
    "\n",
    "frequency_sweep = emeApi.getdata('FDE::data::frequencysweep', 'f')\n",
    "\n",
    "wavelength_sweep = c/frequency_sweep\n",
    "\n",
    "wavelength_values = np.linspace(1.5*um, 1.6*um, 6)\n",
    "\n",
    "neff_mode1.append(emeApi.real(emeApi.getdata('mode1', 'neff')))\n"
   ],
   "id": "1d60f1f306af9052",
   "outputs": [],
   "execution_count": 13
  },
  {
   "metadata": {
    "ExecuteTime": {
     "end_time": "2025-02-11T10:58:13.544588Z",
     "start_time": "2025-02-11T10:58:13.541967Z"
    }
   },
   "cell_type": "code",
   "source": "print(neff_mode1)",
   "id": "30bfe2a75a25b589",
   "outputs": [
    {
     "name": "stdout",
     "output_type": "stream",
     "text": [
      "[2.2906153513791394]\n"
     ]
    }
   ],
   "execution_count": 14
  },
  {
   "metadata": {
    "ExecuteTime": {
     "end_time": "2025-02-11T10:58:13.645651Z",
     "start_time": "2025-02-11T10:58:13.558056Z"
    }
   },
   "cell_type": "code",
   "source": [
    "plt.minorticks_on()\n",
    "plt.grid()\n",
    "plt.plot(wavelength_sweep/um, neff_sweep, 'black', lw=1.5)"
   ],
   "id": "631b9c2486d3fcc",
   "outputs": [
    {
     "data": {
      "text/plain": [
       "[<matplotlib.lines.Line2D at 0x2545002fc80>]"
      ]
     },
     "execution_count": 15,
     "metadata": {},
     "output_type": "execute_result"
    },
    {
     "data": {
      "text/plain": [
       "<Figure size 640x480 with 1 Axes>"
      ],
      "image/png": "[encoded data removed]"
     },
     "metadata": {},
     "output_type": "display_data"
    }
   ],
   "execution_count": 15
  },
  {
   "metadata": {},
   "cell_type": "markdown",
   "source": "Group index calculation",
   "id": "6168262f776a9ead"
  },
  {
   "metadata": {
    "ExecuteTime": {
     "end_time": "2025-02-11T10:58:13.723747Z",
     "start_time": "2025-02-11T10:58:13.650291Z"
    }
   },
   "cell_type": "code",
   "source": [
    "#neff(lambda)\n",
    "lambda0 = 1550*nm\n",
    "\n",
    "neff_lambda = np.column_stack((wavelength_sweep, neff_sweep))\n",
    "\n",
    "derivative_neff = derivative.derivative(neff_lambda)\n",
    "\n",
    "ng =  neff_sweep.flatten()- (derivative_neff[:,1]*wavelength_sweep.flatten())\n",
    "\n",
    "plt.grid()\n",
    "plt.minorticks_on()\n",
    "plt.plot(derivative_neff[:,0]/um, ng, 'black', lw=1.5)\n",
    "plt.vlines(1.550,ymin=4.26,ymax=4.35, color='r')"
   ],
   "id": "d01324c25190b17",
   "outputs": [
    {
     "data": {
      "text/plain": [
       "<matplotlib.collections.LineCollection at 0x254500efce0>"
      ]
     },
     "execution_count": 16,
     "metadata": {},
     "output_type": "execute_result"
    },
    {
     "data": {
      "text/plain": [
       "<Figure size 640x480 with 1 Axes>"
      ],
      "image/png": "[encoded data removed]"
     },
     "metadata": {},
     "output_type": "display_data"
    }
   ],
   "execution_count": 16
  },
  {
   "metadata": {},
   "cell_type": "markdown",
   "source": "PLOT FSR",
   "id": "e8f3bf22825b27cc"
  },
  {
   "metadata": {
    "ExecuteTime": {
     "end_time": "2025-02-11T22:22:56.759399Z",
     "start_time": "2025-02-11T22:22:56.631086Z"
    }
   },
   "cell_type": "code",
   "source": [
    "delta = 55.287078587044064\n",
    "fsr = (wavelength_sweep.flatten())**2/(ng*delta*um)\n",
    "\n",
    "plt.title(f'FSR vs Wavelength (delta = {delta} um)')\n",
    "plt.plot(wavelength_sweep/um, fsr/nm, 'black', lw=1.5)"
   ],
   "id": "d06e2f1414dd710d",
   "outputs": [
    {
     "ename": "NameError",
     "evalue": "name 'wavelength_sweep' is not defined",
     "output_type": "error",
     "traceback": [
      "\u001B[1;31m---------------------------------------------------------------------------\u001B[0m",
      "\u001B[1;31mNameError\u001B[0m                                 Traceback (most recent call last)",
      "Cell \u001B[1;32mIn[1], line 2\u001B[0m\n\u001B[0;32m      1\u001B[0m delta \u001B[38;5;241m=\u001B[39m \u001B[38;5;241m55.287078587044064\u001B[39m\n\u001B[1;32m----> 2\u001B[0m fsr \u001B[38;5;241m=\u001B[39m (\u001B[43mwavelength_sweep\u001B[49m\u001B[38;5;241m.\u001B[39mflatten())\u001B[38;5;241m*\u001B[39m\u001B[38;5;241m*\u001B[39m\u001B[38;5;241m2\u001B[39m\u001B[38;5;241m/\u001B[39m(ng\u001B[38;5;241m*\u001B[39mdelta\u001B[38;5;241m*\u001B[39mum)\n\u001B[0;32m      4\u001B[0m plt\u001B[38;5;241m.\u001B[39mtitle(\u001B[38;5;124mf\u001B[39m\u001B[38;5;124m'\u001B[39m\u001B[38;5;124mFSR vs Wavelength (delta = \u001B[39m\u001B[38;5;132;01m{\u001B[39;00mdelta\u001B[38;5;132;01m}\u001B[39;00m\u001B[38;5;124m um)\u001B[39m\u001B[38;5;124m'\u001B[39m)\n\u001B[0;32m      5\u001B[0m plt\u001B[38;5;241m.\u001B[39mplot(wavelength_sweep\u001B[38;5;241m/\u001B[39mum, fsr\u001B[38;5;241m/\u001B[39mnm, \u001B[38;5;124m'\u001B[39m\u001B[38;5;124mblack\u001B[39m\u001B[38;5;124m'\u001B[39m, lw\u001B[38;5;241m=\u001B[39m\u001B[38;5;241m1.5\u001B[39m)\n",
      "\u001B[1;31mNameError\u001B[0m: name 'wavelength_sweep' is not defined"
     ]
    }
   ],
   "execution_count": 1
  },
  {
   "metadata": {},
   "cell_type": "markdown",
   "source": "Solver settings ",
   "id": "b58f1c36be0433ba"
  },
  {
   "metadata": {
    "ExecuteTime": {
     "end_time": "2025-02-11T10:58:14.482904Z",
     "start_time": "2025-02-11T10:58:13.785954Z"
    }
   },
   "cell_type": "code",
   "source": [
    "emeApi.switchtolayout()\n",
    "emeApi.addeme()"
   ],
   "id": "d7611c95e5a05d8a",
   "outputs": [
    {
     "data": {
      "text/plain": [
       "<lumapi.SimObject at 0x254522aa2a0>"
      ]
     },
     "execution_count": 18,
     "metadata": {},
     "output_type": "execute_result"
    }
   ],
   "execution_count": 18
  },
  {
   "metadata": {
    "ExecuteTime": {
     "end_time": "2025-02-11T10:58:15.722829Z",
     "start_time": "2025-02-11T10:58:14.491168Z"
    }
   },
   "cell_type": "code",
   "source": [
    "#dimensions:\n",
    "emeApi.set('x',0)\n",
    "emeApi.set('x min', emeApi.getnamed(f'{dev_layer}::slab', 'x min'))\n",
    "emeApi.set('y', 0)\n",
    "emeApi.set('y span', width + 2*bound_y_offset)\n",
    "emeApi.set('z', height/2)\n",
    "emeApi.set('z span', height + 2*bound_z_offset)\n",
    "\n",
    "emeApi.set('group spans',length)\n",
    "\n",
    "#background material\n",
    "emeApi.set('background material', materialClad)"
   ],
   "id": "4da5c942d6e62b42",
   "outputs": [],
   "execution_count": 19
  },
  {
   "metadata": {
    "ExecuteTime": {
     "end_time": "2025-02-11T10:58:17.284039Z",
     "start_time": "2025-02-11T10:58:15.728807Z"
    }
   },
   "cell_type": "code",
   "source": [
    "emeApi.addemeprofile()\n",
    "emeApi.set('name', 'profile')\n",
    "emeApi.set('monitor type', 1)\n",
    "emeApi.set('x', 2*um)\n",
    "emeApi.set('y',0)\n",
    "emeApi.set('y span', emeApi.getnamed('EME', 'y span'))\n",
    "emeApi.set('z', height/2)"
   ],
   "id": "22f9a00948274763",
   "outputs": [],
   "execution_count": 20
  },
  {
   "metadata": {
    "ExecuteTime": {
     "end_time": "2025-02-11T10:58:17.735573Z",
     "start_time": "2025-02-11T10:58:17.289722Z"
    }
   },
   "cell_type": "code",
   "source": [
    "#boundary conditions\n",
    "emeApi.switchtolayout()\n",
    "emeApi.set('y min bc', 'Metal')\n",
    "emeApi.set('y max bc', 'Metal')\n",
    "emeApi.set('z min bc', 'Metal')\n",
    "emeApi.set('z max bc', 'Metal')"
   ],
   "id": "cef11275ff85612e",
   "outputs": [
    {
     "ename": "LumApiError",
     "evalue": "'in set, the requested property was not found'",
     "output_type": "error",
     "traceback": [
      "\u001B[1;31m---------------------------------------------------------------------------\u001B[0m",
      "\u001B[1;31mLumApiError\u001B[0m                               Traceback (most recent call last)",
      "Cell \u001B[1;32mIn[21], line 3\u001B[0m\n\u001B[0;32m      1\u001B[0m \u001B[38;5;66;03m#boundary conditions\u001B[39;00m\n\u001B[0;32m      2\u001B[0m emeApi\u001B[38;5;241m.\u001B[39mswitchtolayout()\n\u001B[1;32m----> 3\u001B[0m \u001B[43memeApi\u001B[49m\u001B[38;5;241;43m.\u001B[39;49m\u001B[43mset\u001B[49m\u001B[43m(\u001B[49m\u001B[38;5;124;43m'\u001B[39;49m\u001B[38;5;124;43my min bc\u001B[39;49m\u001B[38;5;124;43m'\u001B[39;49m\u001B[43m,\u001B[49m\u001B[43m \u001B[49m\u001B[38;5;124;43m'\u001B[39;49m\u001B[38;5;124;43mMetal\u001B[39;49m\u001B[38;5;124;43m'\u001B[39;49m\u001B[43m)\u001B[49m\n\u001B[0;32m      4\u001B[0m emeApi\u001B[38;5;241m.\u001B[39mset(\u001B[38;5;124m'\u001B[39m\u001B[38;5;124my max bc\u001B[39m\u001B[38;5;124m'\u001B[39m, \u001B[38;5;124m'\u001B[39m\u001B[38;5;124mMetal\u001B[39m\u001B[38;5;124m'\u001B[39m)\n\u001B[0;32m      5\u001B[0m emeApi\u001B[38;5;241m.\u001B[39mset(\u001B[38;5;124m'\u001B[39m\u001B[38;5;124mz min bc\u001B[39m\u001B[38;5;124m'\u001B[39m, \u001B[38;5;124m'\u001B[39m\u001B[38;5;124mMetal\u001B[39m\u001B[38;5;124m'\u001B[39m)\n",
      "File \u001B[1;32mC:\\Program Files\\Lumerical\\v221\\api\\python\\lumapi.py:1153\u001B[0m, in \u001B[0;36mLumerical.__init__.<locals>.<lambda>\u001B[1;34m(self, *args)\u001B[0m\n\u001B[0;32m   1150\u001B[0m     method \u001B[38;5;241m=\u001B[39m (\u001B[38;5;28;01mlambda\u001B[39;00m x: \u001B[38;5;28;01mlambda\u001B[39;00m \u001B[38;5;28mself\u001B[39m, \u001B[38;5;241m*\u001B[39margs, \u001B[38;5;241m*\u001B[39m\u001B[38;5;241m*\u001B[39mkwargs:\n\u001B[0;32m   1151\u001B[0m     appCallWithConstructor(\u001B[38;5;28mself\u001B[39m, x, args, \u001B[38;5;241m*\u001B[39m\u001B[38;5;241m*\u001B[39mkwargs))(name)\n\u001B[0;32m   1152\u001B[0m \u001B[38;5;28;01melse\u001B[39;00m:\n\u001B[1;32m-> 1153\u001B[0m     method \u001B[38;5;241m=\u001B[39m (\u001B[38;5;28;01mlambda\u001B[39;00m x: \u001B[38;5;28;01mlambda\u001B[39;00m \u001B[38;5;28mself\u001B[39m, \u001B[38;5;241m*\u001B[39margs: \u001B[43mappCall\u001B[49m\u001B[43m(\u001B[49m\u001B[38;5;28;43mself\u001B[39;49m\u001B[43m,\u001B[49m\u001B[43m \u001B[49m\u001B[43mx\u001B[49m\u001B[43m,\u001B[49m\u001B[43m \u001B[49m\u001B[43margs\u001B[49m\u001B[43m)\u001B[49m)(name)\n\u001B[0;32m   1154\u001B[0m method\u001B[38;5;241m.\u001B[39m\u001B[38;5;18m__name__\u001B[39m \u001B[38;5;241m=\u001B[39m \u001B[38;5;28mstr\u001B[39m(name)\n\u001B[0;32m   1155\u001B[0m \u001B[38;5;28;01mtry\u001B[39;00m:\n",
      "File \u001B[1;32mC:\\Program Files\\Lumerical\\v221\\api\\python\\lumapi.py:800\u001B[0m, in \u001B[0;36mappCall\u001B[1;34m(self, name, *args)\u001B[0m\n\u001B[0;32m    798\u001B[0m         argLumTypes \u001B[38;5;241m=\u001B[39m lumTypes(\u001B[38;5;28mlist\u001B[39m(args[\u001B[38;5;241m0\u001B[39m]))\n\u001B[0;32m    799\u001B[0m         message \u001B[38;5;241m+\u001B[39m\u001B[38;5;241m=\u001B[39m (\u001B[38;5;124m\"\u001B[39m\u001B[38;5;124m - \u001B[39m\u001B[38;5;124m\"\u001B[39m \u001B[38;5;241m+\u001B[39m name \u001B[38;5;241m+\u001B[39m \u001B[38;5;124m\"\u001B[39m\u001B[38;5;124m arguments were converted to (\u001B[39m\u001B[38;5;124m\"\u001B[39m \u001B[38;5;241m+\u001B[39m \u001B[38;5;124m\"\u001B[39m\u001B[38;5;124m, \u001B[39m\u001B[38;5;124m\"\u001B[39m\u001B[38;5;241m.\u001B[39mjoin(argLumTypes) \u001B[38;5;241m+\u001B[39m \u001B[38;5;124m\"\u001B[39m\u001B[38;5;124m)\u001B[39m\u001B[38;5;124m\"\u001B[39m)\n\u001B[1;32m--> 800\u001B[0m     \u001B[38;5;28;01mraise\u001B[39;00m LumApiError(message)\n\u001B[0;32m    801\u001B[0m \u001B[38;5;28;01mif\u001B[39;00m \u001B[38;5;28misinstance\u001B[39m(rvals[\u001B[38;5;241m0\u001B[39m], \u001B[38;5;28mstr\u001B[39m) \u001B[38;5;129;01mand\u001B[39;00m (rvals[\u001B[38;5;241m0\u001B[39m] \u001B[38;5;241m==\u001B[39m \u001B[38;5;124m\"\u001B[39m\u001B[38;5;124md6d8d1b2c083c251\u001B[39m\u001B[38;5;124m\"\u001B[39m):\n\u001B[0;32m    802\u001B[0m     rvals[\u001B[38;5;241m0\u001B[39m] \u001B[38;5;241m=\u001B[39m \u001B[38;5;28;01mNone\u001B[39;00m\n",
      "\u001B[1;31mLumApiError\u001B[0m: 'in set, the requested property was not found'"
     ]
    }
   ],
   "execution_count": 21
  },
  {
   "metadata": {
    "ExecuteTime": {
     "end_time": "2025-02-11T10:58:51.216330Z",
     "start_time": "2025-02-11T10:58:36.933553Z"
    }
   },
   "cell_type": "code",
   "source": [
    "emeApi.save('slab150')\n",
    "emeApi.run()"
   ],
   "id": "d3ea01f79c38757c",
   "outputs": [],
   "execution_count": 22
  },
  {
   "metadata": {
    "ExecuteTime": {
     "end_time": "2025-02-11T10:58:51.364387Z",
     "start_time": "2025-02-11T10:58:51.216330Z"
    }
   },
   "cell_type": "code",
   "source": "emeApi.emepropagate()",
   "id": "eb9816fceda88cf",
   "outputs": [],
   "execution_count": 23
  },
  {
   "metadata": {
    "ExecuteTime": {
     "end_time": "2025-02-11T10:58:51.991730Z",
     "start_time": "2025-02-11T10:58:51.377255Z"
    }
   },
   "cell_type": "code",
   "source": [
    "interval = 0.1\n",
    "emeApi.setemeanalysis('propagation sweep', 1)\n",
    "emeApi.setemeanalysis('parameter', 'group span 1')\n",
    "emeApi.setemeanalysis('start',1*um)\n",
    "emeApi.setemeanalysis('stop', 1000*um)\n",
    "emeApi.setemeanalysis('interval', interval)"
   ],
   "id": "e7c1601cdc2e556b",
   "outputs": [],
   "execution_count": 24
  },
  {
   "metadata": {
    "ExecuteTime": {
     "end_time": "2025-02-11T10:58:52.948563Z",
     "start_time": "2025-02-11T10:58:52.005831Z"
    }
   },
   "cell_type": "code",
   "source": "emeApi.emesweep('propagation sweep')",
   "id": "f13368a2835d3c04",
   "outputs": [],
   "execution_count": 25
  },
  {
   "metadata": {
    "ExecuteTime": {
     "end_time": "2025-02-11T10:58:53.091055Z",
     "start_time": "2025-02-11T10:58:52.954114Z"
    }
   },
   "cell_type": "code",
   "source": [
    "S = emeApi.getemesweep('S')\n",
    "group_span = S['group_span_1']"
   ],
   "id": "ec0e2e0937227306",
   "outputs": [],
   "execution_count": 26
  },
  {
   "metadata": {
    "ExecuteTime": {
     "end_time": "2025-02-11T10:58:53.775461Z",
     "start_time": "2025-02-11T10:58:53.105396Z"
    }
   },
   "cell_type": "code",
   "source": [
    "wl_start= 1500*nm\n",
    "wl_stop = 1600*nm\n",
    "nmbFrqPnts = 100\n",
    "emeApi.setemeanalysis('wavelength sweep', 1)\n",
    "emeApi.setemeanalysis('start wavelength', wl_start)\n",
    "emeApi.setemeanalysis('stop wavelength', wl_stop)\n",
    "emeApi.setemeanalysis('number of wavelength points', nmbFrqPnts)\n",
    "emeApi.setemeanalysis('calculate group delays', 1)"
   ],
   "id": "86d511f65d561ba5",
   "outputs": [],
   "execution_count": 27
  },
  {
   "metadata": {
    "ExecuteTime": {
     "end_time": "2025-02-11T10:58:54.071217Z",
     "start_time": "2025-02-11T10:58:53.782938Z"
    }
   },
   "cell_type": "code",
   "source": [
    "emeApi.emesweep('wavelength sweep')\n",
    "S = emeApi.getemesweep('S_wavelength_sweep')"
   ],
   "id": "7f80b75cc89f117b",
   "outputs": [],
   "execution_count": 28
  },
  {
   "metadata": {
    "ExecuteTime": {
     "end_time": "2025-02-11T10:58:58.173268Z",
     "start_time": "2025-02-11T10:58:57.892460Z"
    }
   },
   "cell_type": "code",
   "source": [
    "emeApi.emepropagate()   \n",
    "emeApi.exportemesweep('slab150um.dat') "
   ],
   "id": "713e6dc859e77c3c",
   "outputs": [],
   "execution_count": 30
  },
  {
   "metadata": {
    "ExecuteTime": {
     "end_time": "2025-02-11T10:58:17.735573Z",
     "start_time": "2025-02-11T10:55:43.640818Z"
    }
   },
   "cell_type": "code",
   "source": [
    "T = np.abs(S['s21'])**2\n",
    "plt.plot(group_span/um, T, 'black', lw=1.5, label='Simulação')\n",
    "plt.xlabel(r'Comprimento do taper $(\\mu m)$', fontsize = 12)\n",
    "plt.ylabel('Transmitância', fontsize = 12)\n",
    "plt.xlim(1,10)\n",
    "plt.ylim([0.7,1.05])\n",
    "plt.legend()\n",
    "plt.grid(which='both', axis='both', linestyle='--', linewidth=0.5)\n",
    "plt.minorticks_on()\n",
    "plt.title(r'Transmitância vs L (Taper linear)')\n",
    "plt.grid(True)"
   ],
   "id": "f21d81b530ac886b",
   "outputs": [
    {
     "ename": "ValueError",
     "evalue": "x and y must have same first dimension, but have shapes (1000, 1) and (100,)",
     "output_type": "error",
     "traceback": [
      "\u001B[1;31m---------------------------------------------------------------------------\u001B[0m",
      "\u001B[1;31mValueError\u001B[0m                                Traceback (most recent call last)",
      "Cell \u001B[1;32mIn[343], line 2\u001B[0m\n\u001B[0;32m      1\u001B[0m T \u001B[38;5;241m=\u001B[39m np\u001B[38;5;241m.\u001B[39mabs(S[\u001B[38;5;124m'\u001B[39m\u001B[38;5;124ms21\u001B[39m\u001B[38;5;124m'\u001B[39m])\u001B[38;5;241m*\u001B[39m\u001B[38;5;241m*\u001B[39m\u001B[38;5;241m2\u001B[39m\n\u001B[1;32m----> 2\u001B[0m \u001B[43mplt\u001B[49m\u001B[38;5;241;43m.\u001B[39;49m\u001B[43mplot\u001B[49m\u001B[43m(\u001B[49m\u001B[43mgroup_span\u001B[49m\u001B[38;5;241;43m/\u001B[39;49m\u001B[43mum\u001B[49m\u001B[43m,\u001B[49m\u001B[43m \u001B[49m\u001B[43mT\u001B[49m\u001B[43m,\u001B[49m\u001B[43m \u001B[49m\u001B[38;5;124;43m'\u001B[39;49m\u001B[38;5;124;43mblack\u001B[39;49m\u001B[38;5;124;43m'\u001B[39;49m\u001B[43m,\u001B[49m\u001B[43m \u001B[49m\u001B[43mlw\u001B[49m\u001B[38;5;241;43m=\u001B[39;49m\u001B[38;5;241;43m1.5\u001B[39;49m\u001B[43m,\u001B[49m\u001B[43m \u001B[49m\u001B[43mlabel\u001B[49m\u001B[38;5;241;43m=\u001B[39;49m\u001B[38;5;124;43m'\u001B[39;49m\u001B[38;5;124;43mSimulação\u001B[39;49m\u001B[38;5;124;43m'\u001B[39;49m\u001B[43m)\u001B[49m\n\u001B[0;32m      3\u001B[0m plt\u001B[38;5;241m.\u001B[39mxlabel(\u001B[38;5;124mr\u001B[39m\u001B[38;5;124m'\u001B[39m\u001B[38;5;124mComprimento do taper $(\u001B[39m\u001B[38;5;124m\\\u001B[39m\u001B[38;5;124mmu m)$\u001B[39m\u001B[38;5;124m'\u001B[39m, fontsize \u001B[38;5;241m=\u001B[39m \u001B[38;5;241m12\u001B[39m)\n\u001B[0;32m      4\u001B[0m plt\u001B[38;5;241m.\u001B[39mylabel(\u001B[38;5;124m'\u001B[39m\u001B[38;5;124mTransmitância\u001B[39m\u001B[38;5;124m'\u001B[39m, fontsize \u001B[38;5;241m=\u001B[39m \u001B[38;5;241m12\u001B[39m)\n",
      "File \u001B[1;32m~\\AppData\\Local\\Programs\\Python\\Python312\\Lib\\site-packages\\matplotlib\\pyplot.py:3794\u001B[0m, in \u001B[0;36mplot\u001B[1;34m(scalex, scaley, data, *args, **kwargs)\u001B[0m\n\u001B[0;32m   3786\u001B[0m \u001B[38;5;129m@_copy_docstring_and_deprecators\u001B[39m(Axes\u001B[38;5;241m.\u001B[39mplot)\n\u001B[0;32m   3787\u001B[0m \u001B[38;5;28;01mdef\u001B[39;00m \u001B[38;5;21mplot\u001B[39m(\n\u001B[0;32m   3788\u001B[0m     \u001B[38;5;241m*\u001B[39margs: \u001B[38;5;28mfloat\u001B[39m \u001B[38;5;241m|\u001B[39m ArrayLike \u001B[38;5;241m|\u001B[39m \u001B[38;5;28mstr\u001B[39m,\n\u001B[1;32m   (...)\u001B[0m\n\u001B[0;32m   3792\u001B[0m     \u001B[38;5;241m*\u001B[39m\u001B[38;5;241m*\u001B[39mkwargs,\n\u001B[0;32m   3793\u001B[0m ) \u001B[38;5;241m-\u001B[39m\u001B[38;5;241m>\u001B[39m \u001B[38;5;28mlist\u001B[39m[Line2D]:\n\u001B[1;32m-> 3794\u001B[0m     \u001B[38;5;28;01mreturn\u001B[39;00m \u001B[43mgca\u001B[49m\u001B[43m(\u001B[49m\u001B[43m)\u001B[49m\u001B[38;5;241;43m.\u001B[39;49m\u001B[43mplot\u001B[49m\u001B[43m(\u001B[49m\n\u001B[0;32m   3795\u001B[0m \u001B[43m        \u001B[49m\u001B[38;5;241;43m*\u001B[39;49m\u001B[43margs\u001B[49m\u001B[43m,\u001B[49m\n\u001B[0;32m   3796\u001B[0m \u001B[43m        \u001B[49m\u001B[43mscalex\u001B[49m\u001B[38;5;241;43m=\u001B[39;49m\u001B[43mscalex\u001B[49m\u001B[43m,\u001B[49m\n\u001B[0;32m   3797\u001B[0m \u001B[43m        \u001B[49m\u001B[43mscaley\u001B[49m\u001B[38;5;241;43m=\u001B[39;49m\u001B[43mscaley\u001B[49m\u001B[43m,\u001B[49m\n\u001B[0;32m   3798\u001B[0m \u001B[43m        \u001B[49m\u001B[38;5;241;43m*\u001B[39;49m\u001B[38;5;241;43m*\u001B[39;49m\u001B[43m(\u001B[49m\u001B[43m{\u001B[49m\u001B[38;5;124;43m\"\u001B[39;49m\u001B[38;5;124;43mdata\u001B[39;49m\u001B[38;5;124;43m\"\u001B[39;49m\u001B[43m:\u001B[49m\u001B[43m \u001B[49m\u001B[43mdata\u001B[49m\u001B[43m}\u001B[49m\u001B[43m \u001B[49m\u001B[38;5;28;43;01mif\u001B[39;49;00m\u001B[43m \u001B[49m\u001B[43mdata\u001B[49m\u001B[43m \u001B[49m\u001B[38;5;129;43;01mis\u001B[39;49;00m\u001B[43m \u001B[49m\u001B[38;5;129;43;01mnot\u001B[39;49;00m\u001B[43m \u001B[49m\u001B[38;5;28;43;01mNone\u001B[39;49;00m\u001B[43m \u001B[49m\u001B[38;5;28;43;01melse\u001B[39;49;00m\u001B[43m \u001B[49m\u001B[43m{\u001B[49m\u001B[43m}\u001B[49m\u001B[43m)\u001B[49m\u001B[43m,\u001B[49m\n\u001B[0;32m   3799\u001B[0m \u001B[43m        \u001B[49m\u001B[38;5;241;43m*\u001B[39;49m\u001B[38;5;241;43m*\u001B[39;49m\u001B[43mkwargs\u001B[49m\u001B[43m,\u001B[49m\n\u001B[0;32m   3800\u001B[0m \u001B[43m    \u001B[49m\u001B[43m)\u001B[49m\n",
      "File \u001B[1;32m~\\AppData\\Local\\Programs\\Python\\Python312\\Lib\\site-packages\\matplotlib\\axes\\_axes.py:1779\u001B[0m, in \u001B[0;36mAxes.plot\u001B[1;34m(self, scalex, scaley, data, *args, **kwargs)\u001B[0m\n\u001B[0;32m   1536\u001B[0m \u001B[38;5;250m\u001B[39m\u001B[38;5;124;03m\"\"\"\u001B[39;00m\n\u001B[0;32m   1537\u001B[0m \u001B[38;5;124;03mPlot y versus x as lines and/or markers.\u001B[39;00m\n\u001B[0;32m   1538\u001B[0m \n\u001B[1;32m   (...)\u001B[0m\n\u001B[0;32m   1776\u001B[0m \u001B[38;5;124;03m(``'green'``) or hex strings (``'#008000'``).\u001B[39;00m\n\u001B[0;32m   1777\u001B[0m \u001B[38;5;124;03m\"\"\"\u001B[39;00m\n\u001B[0;32m   1778\u001B[0m kwargs \u001B[38;5;241m=\u001B[39m cbook\u001B[38;5;241m.\u001B[39mnormalize_kwargs(kwargs, mlines\u001B[38;5;241m.\u001B[39mLine2D)\n\u001B[1;32m-> 1779\u001B[0m lines \u001B[38;5;241m=\u001B[39m [\u001B[38;5;241m*\u001B[39m\u001B[38;5;28mself\u001B[39m\u001B[38;5;241m.\u001B[39m_get_lines(\u001B[38;5;28mself\u001B[39m, \u001B[38;5;241m*\u001B[39margs, data\u001B[38;5;241m=\u001B[39mdata, \u001B[38;5;241m*\u001B[39m\u001B[38;5;241m*\u001B[39mkwargs)]\n\u001B[0;32m   1780\u001B[0m \u001B[38;5;28;01mfor\u001B[39;00m line \u001B[38;5;129;01min\u001B[39;00m lines:\n\u001B[0;32m   1781\u001B[0m     \u001B[38;5;28mself\u001B[39m\u001B[38;5;241m.\u001B[39madd_line(line)\n",
      "File \u001B[1;32m~\\AppData\\Local\\Programs\\Python\\Python312\\Lib\\site-packages\\matplotlib\\axes\\_base.py:296\u001B[0m, in \u001B[0;36m_process_plot_var_args.__call__\u001B[1;34m(self, axes, data, *args, **kwargs)\u001B[0m\n\u001B[0;32m    294\u001B[0m     this \u001B[38;5;241m+\u001B[39m\u001B[38;5;241m=\u001B[39m args[\u001B[38;5;241m0\u001B[39m],\n\u001B[0;32m    295\u001B[0m     args \u001B[38;5;241m=\u001B[39m args[\u001B[38;5;241m1\u001B[39m:]\n\u001B[1;32m--> 296\u001B[0m \u001B[38;5;28;01myield from\u001B[39;00m \u001B[38;5;28;43mself\u001B[39;49m\u001B[38;5;241;43m.\u001B[39;49m\u001B[43m_plot_args\u001B[49m\u001B[43m(\u001B[49m\n\u001B[0;32m    297\u001B[0m \u001B[43m    \u001B[49m\u001B[43maxes\u001B[49m\u001B[43m,\u001B[49m\u001B[43m \u001B[49m\u001B[43mthis\u001B[49m\u001B[43m,\u001B[49m\u001B[43m \u001B[49m\u001B[43mkwargs\u001B[49m\u001B[43m,\u001B[49m\u001B[43m \u001B[49m\u001B[43mambiguous_fmt_datakey\u001B[49m\u001B[38;5;241;43m=\u001B[39;49m\u001B[43mambiguous_fmt_datakey\u001B[49m\u001B[43m)\u001B[49m\n",
      "File \u001B[1;32m~\\AppData\\Local\\Programs\\Python\\Python312\\Lib\\site-packages\\matplotlib\\axes\\_base.py:486\u001B[0m, in \u001B[0;36m_process_plot_var_args._plot_args\u001B[1;34m(self, axes, tup, kwargs, return_kwargs, ambiguous_fmt_datakey)\u001B[0m\n\u001B[0;32m    483\u001B[0m     axes\u001B[38;5;241m.\u001B[39myaxis\u001B[38;5;241m.\u001B[39mupdate_units(y)\n\u001B[0;32m    485\u001B[0m \u001B[38;5;28;01mif\u001B[39;00m x\u001B[38;5;241m.\u001B[39mshape[\u001B[38;5;241m0\u001B[39m] \u001B[38;5;241m!=\u001B[39m y\u001B[38;5;241m.\u001B[39mshape[\u001B[38;5;241m0\u001B[39m]:\n\u001B[1;32m--> 486\u001B[0m     \u001B[38;5;28;01mraise\u001B[39;00m \u001B[38;5;167;01mValueError\u001B[39;00m(\u001B[38;5;124mf\u001B[39m\u001B[38;5;124m\"\u001B[39m\u001B[38;5;124mx and y must have same first dimension, but \u001B[39m\u001B[38;5;124m\"\u001B[39m\n\u001B[0;32m    487\u001B[0m                      \u001B[38;5;124mf\u001B[39m\u001B[38;5;124m\"\u001B[39m\u001B[38;5;124mhave shapes \u001B[39m\u001B[38;5;132;01m{\u001B[39;00mx\u001B[38;5;241m.\u001B[39mshape\u001B[38;5;132;01m}\u001B[39;00m\u001B[38;5;124m and \u001B[39m\u001B[38;5;132;01m{\u001B[39;00my\u001B[38;5;241m.\u001B[39mshape\u001B[38;5;132;01m}\u001B[39;00m\u001B[38;5;124m\"\u001B[39m)\n\u001B[0;32m    488\u001B[0m \u001B[38;5;28;01mif\u001B[39;00m x\u001B[38;5;241m.\u001B[39mndim \u001B[38;5;241m>\u001B[39m \u001B[38;5;241m2\u001B[39m \u001B[38;5;129;01mor\u001B[39;00m y\u001B[38;5;241m.\u001B[39mndim \u001B[38;5;241m>\u001B[39m \u001B[38;5;241m2\u001B[39m:\n\u001B[0;32m    489\u001B[0m     \u001B[38;5;28;01mraise\u001B[39;00m \u001B[38;5;167;01mValueError\u001B[39;00m(\u001B[38;5;124mf\u001B[39m\u001B[38;5;124m\"\u001B[39m\u001B[38;5;124mx and y can be no greater than 2D, but have \u001B[39m\u001B[38;5;124m\"\u001B[39m\n\u001B[0;32m    490\u001B[0m                      \u001B[38;5;124mf\u001B[39m\u001B[38;5;124m\"\u001B[39m\u001B[38;5;124mshapes \u001B[39m\u001B[38;5;132;01m{\u001B[39;00mx\u001B[38;5;241m.\u001B[39mshape\u001B[38;5;132;01m}\u001B[39;00m\u001B[38;5;124m and \u001B[39m\u001B[38;5;132;01m{\u001B[39;00my\u001B[38;5;241m.\u001B[39mshape\u001B[38;5;132;01m}\u001B[39;00m\u001B[38;5;124m\"\u001B[39m)\n",
      "\u001B[1;31mValueError\u001B[0m: x and y must have same first dimension, but have shapes (1000, 1) and (100,)"
     ]
    },
    {
     "data": {
      "text/plain": [
       "<Figure size 640x480 with 1 Axes>"
      ],
      "image/png": "[encoded data removed]"
     },
     "metadata": {},
     "output_type": "display_data"
    }
   ],
   "execution_count": 343
  },
  {
   "metadata": {},
   "cell_type": "code",
   "outputs": [],
   "execution_count": null,
   "source": "",
   "id": "9f85579e22dc93ec"
  }
 ],
 "metadata": {
  "kernelspec": {
   "display_name": "Python 3",
   "language": "python",
   "name": "python3"
  },
  "language_info": {
   "codemirror_mode": {
    "name": "ipython",
    "version": 2
   },
   "file_extension": ".py",
   "mimetype": "text/x-python",
   "name": "python",
   "nbconvert_exporter": "python",
   "pygments_lexer": "ipython2",
   "version": "2.7.6"
  }
 },
 "nbformat": 4,
 "nbformat_minor": 5
}
