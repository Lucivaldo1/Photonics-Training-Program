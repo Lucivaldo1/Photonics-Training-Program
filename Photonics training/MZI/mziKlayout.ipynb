{
 "cells": [
  {
   "cell_type": "code",
   "id": "initial_id",
   "metadata": {
    "collapsed": true,
    "ExecuteTime": {
     "end_time": "2025-02-15T17:51:46.412374Z",
     "start_time": "2025-02-15T17:51:46.408198Z"
    }
   },
   "source": [
    "import sys, os\n",
    "from cProfile import label\n",
    "\n",
    "import numpy as np\n",
    "import matplotlib.pyplot as plt\n",
    "import warnings\n",
    "from scipy.constants import c\n",
    "\n",
    "import klayout.db as db"
   ],
   "outputs": [],
   "execution_count": 8
  },
  {
   "metadata": {
    "ExecuteTime": {
     "end_time": "2025-02-15T18:00:04.090834Z",
     "start_time": "2025-02-15T18:00:04.076941Z"
    }
   },
   "cell_type": "code",
   "source": [
    "\n",
    "\n",
    "ly = db.Layout()\n",
    "\n",
    "# sets the database unit to 1 nm\n",
    "ly.dbu = 0.001\n",
    "\n",
    "# adds a single top cell\n",
    "top_cell = ly.create_cell(\"TOP\")\n",
    "\n",
    "# creates a new layer (layer number 1, datatype 0)\n",
    "layer1 = ly.layer(1, 0)\n",
    "\n",
    "pattern = \"\"\"\n",
    ".#...#.#......###..#...#..###..#...#.#####\n",
    ".#..#..#.....#...#.#...#.#...#.#...#...#..\n",
    ".#.#...#.....#...#.#...#.#...#.#...#...#..\n",
    ".##....#.....#####..#.# .#...#.#...#...#..\n",
    ".#.#...#.....#...#...#. .#...#.#...#...#..\n",
    ".#..#..#.....#...#...#. .#...#.#...#...#..\n",
    ".#...#.#####.#...#...#. ..###...###....#..\n",
    "\"\"\"\n",
    "\n",
    "# produces pixels from the bitmap as 0.5x0.5 µm\n",
    "# boxes on a 1x1 µm grid:\n",
    "y = 8.0\n",
    "for line in pattern.split(\"\\n\"):\n",
    "\n",
    "  x = 0.0\n",
    "  for bit in line:\n",
    "\n",
    "    if bit == \"#\":\n",
    "      # creates a rectangle for the \"on\" pixel\n",
    "      rect = db.DBox(0, 0, 0.5, 0.5).moved(x, y)\n",
    "      top_cell.shapes(layer1).insert(rect)\n",
    "\n",
    "    x += 1.0\n",
    "\n",
    "  y -= 1.0\n",
    "\n",
    "# adds an envelope box on layer 2/0\n",
    "layer2 = ly.layer(2, 0)\n",
    "envelope = top_cell.dbbox().enlarged(1.0, 1.0)\n",
    "top_cell.shapes(layer2).insert(envelope)\n",
    "  \n",
    "# writes the layout to GDS\n",
    "ly.write(\"basic.gds\")\n"
   ],
   "id": "d1f237775d7ce5c5",
   "outputs": [
    {
     "data": {
      "text/plain": [
       "<klayout.dbcore.Layout at 0x205e2e470e0>"
      ]
     },
     "execution_count": 21,
     "metadata": {},
     "output_type": "execute_result"
    }
   ],
   "execution_count": 21
  }
 ],
 "metadata": {
  "kernelspec": {
   "display_name": "Python 3",
   "language": "python",
   "name": "python3"
  },
  "language_info": {
   "codemirror_mode": {
    "name": "ipython",
    "version": 2
   },
   "file_extension": ".py",
   "mimetype": "text/x-python",
   "name": "python",
   "nbconvert_exporter": "python",
   "pygments_lexer": "ipython2",
   "version": "2.7.6"
  }
 },
 "nbformat": 4,
 "nbformat_minor": 5
}
