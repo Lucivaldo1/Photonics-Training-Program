{
 "cells": [
  {
   "cell_type": "code",
   "id": "initial_id",
   "metadata": {
    "collapsed": true,
    "ExecuteTime": {
     "end_time": "2025-05-04T16:44:28.125476Z",
     "start_time": "2025-05-04T16:44:28.121105Z"
    }
   },
   "source": [
    "import sys, os\n",
    "import numpy as np\n",
    "import matplotlib.pyplot as plt\n",
    "import warnings\n",
    "import tools\n",
    "from scipy.constants import c, nu2lambda"
   ],
   "outputs": [],
   "execution_count": 10
  },
  {
   "metadata": {
    "ExecuteTime": {
     "end_time": "2025-05-04T16:36:53.577702Z",
     "start_time": "2025-05-04T16:36:53.572325Z"
    }
   },
   "cell_type": "code",
   "source": [
    "from IPython.core.display import HTML\n",
    "from IPython.core.pylabtools import figsize\n",
    "from IPython.display import display, Math\n",
    "\n",
    "HTML(\"\"\"\n",
    "<style>\n",
    ".output_png{\n",
    "    display: table-cell;\n",
    "    text-align: center;\n",
    "    vertical-align: middle;\n",
    "}\n",
    "</style>\n",
    "\"\"\")"
   ],
   "id": "6a9db81650309e6b",
   "outputs": [
    {
     "data": {
      "text/plain": [
       "<IPython.core.display.HTML object>"
      ],
      "text/html": [
       "\n",
       "<style>\n",
       ".output_png{\n",
       "    display: table-cell;\n",
       "    text-align: center;\n",
       "    vertical-align: middle;\n",
       "}\n",
       "</style>\n"
      ]
     },
     "execution_count": 2,
     "metadata": {},
     "output_type": "execute_result"
    }
   ],
   "execution_count": 2
  },
  {
   "metadata": {
    "ExecuteTime": {
     "end_time": "2025-05-04T16:37:19.078909Z",
     "start_time": "2025-05-04T16:37:19.075690Z"
    }
   },
   "cell_type": "code",
   "source": "figsize(8,4)",
   "id": "16c0e2822f3ad3d1",
   "outputs": [],
   "execution_count": 3
  },
  {
   "metadata": {
    "ExecuteTime": {
     "end_time": "2025-05-04T16:37:30.997216Z",
     "start_time": "2025-05-04T16:37:30.994240Z"
    }
   },
   "cell_type": "code",
   "source": [
    "sys.path.append('C:\\\\Program Files\\\\Lumerical\\\\v221\\\\api\\\\python')\n",
    "sys.path.append('C:\\\\Program Files\\\\Lumerical\\\\v221\\\\api\\\\python\\\\lumapi.py')"
   ],
   "id": "82a49b341791ab82",
   "outputs": [],
   "execution_count": 4
  },
  {
   "metadata": {
    "ExecuteTime": {
     "end_time": "2025-05-04T16:38:14.011549Z",
     "start_time": "2025-05-04T16:37:31.256358Z"
    }
   },
   "cell_type": "code",
   "source": [
    "warnings.filterwarnings(\"ignore\", category=SyntaxWarning)\n",
    "import lumapi\n",
    "fdtdApi = lumapi.FDTD()"
   ],
   "id": "c298448faada7655",
   "outputs": [],
   "execution_count": 5
  },
  {
   "metadata": {
    "ExecuteTime": {
     "end_time": "2025-05-04T17:25:27.808466Z",
     "start_time": "2025-05-04T17:25:27.556808Z"
    }
   },
   "cell_type": "code",
   "source": [
    "fdtdApi.switchtolayout()\n",
    "fdtdApi.deleteall()"
   ],
   "id": "ecb9bb0f8ec502a5",
   "outputs": [],
   "execution_count": 17
  },
  {
   "metadata": {
    "ExecuteTime": {
     "end_time": "2025-05-04T17:25:27.818916Z",
     "start_time": "2025-05-04T17:25:27.808466Z"
    }
   },
   "cell_type": "code",
   "source": [
    "#units\n",
    "nm = 1e-9\n",
    "um = 1e-6"
   ],
   "id": "5a313d6e44a806a6",
   "outputs": [],
   "execution_count": 18
  },
  {
   "metadata": {
    "ExecuteTime": {
     "end_time": "2025-05-04T17:25:27.854933Z",
     "start_time": "2025-05-04T17:25:27.851924Z"
    }
   },
   "cell_type": "code",
   "source": [
    "# Parametros do acoplador direcional\n",
    "lc = 38.188*um\n",
    "gap = 200*nm\n",
    "rad = 5*um\n",
    "# Parametros do guia de onda\n",
    "wg_width = 500*nm\n",
    "wg_height = 220*nm\n",
    "# Materiais do guia de onda\n",
    "material_Clad = 'SiO2 (Glass) - Palik'\n",
    "material_core = 'Si (Silicon) - Palik'"
   ],
   "id": "acb232d05f198523",
   "outputs": [],
   "execution_count": 19
  },
  {
   "metadata": {
    "ExecuteTime": {
     "end_time": "2025-05-04T17:25:28.008338Z",
     "start_time": "2025-05-04T17:25:27.996005Z"
    }
   },
   "cell_type": "code",
   "source": [
    "#Banda de operação (banda C)\n",
    "wl_start = 1530*nm\n",
    "wl_stop = 1565*nm\n",
    "nbmFrqPnts = 21\n",
    "# Nome do arquivo\n",
    "filename = 'dc_FDTd_%d_nm_%03d_um'%(gap/nm,lc/um) "
   ],
   "id": "112433ced6861ac2",
   "outputs": [],
   "execution_count": 20
  },
  {
   "metadata": {
    "ExecuteTime": {
     "end_time": "2025-05-04T17:25:28.164200Z",
     "start_time": "2025-05-04T17:25:28.158450Z"
    }
   },
   "cell_type": "code",
   "source": [
    "## Configuração do FDTD\n",
    "# Tempo de simulação\n",
    "simulation_time = (np.pi*rad+lc)*7/c+200e-15\n",
    "\n",
    "# Dimensões da porta\n",
    "portSize = 2*um\n",
    "portBcDist = 6*um\n",
    "# Dimensões do volume do solver\n",
    "x_FDTD = lc/2 + 2*rad\n",
    "y_FDTD = -rad-gap/2-wg_height\n",
    "x_span_FDTD = lc+2*rad+portBcDist\n",
    "y_span_FDTD = 2*rad + gap + 2*wg_width+portSize\n",
    "z_span_FDTD = 5*um\n",
    "# Material\n",
    "backGroundMaterial = material_Clad\n",
    "# Precisão do mesh\n",
    "mesh_accuracy = 3\n",
    "# condições de fronteira\n",
    "z_min_bc = 'Symmetric'"
   ],
   "id": "dbdf876eb22916d6",
   "outputs": [],
   "execution_count": 21
  },
  {
   "metadata": {
    "ExecuteTime": {
     "end_time": "2025-05-04T17:57:52.339439Z",
     "start_time": "2025-05-04T17:57:52.330436Z"
    }
   },
   "cell_type": "code",
   "source": [
    "# Parametrosa das portas\n",
    "y_port_off = 0.5*um\n",
    "x_port = np.array([lc+3*rad, rad, lc+3*rad, rad])\n",
    "y_port = np.array([-(2*rad+gap+wg_width+y_port_off),-(2*rad+gap+wg_width+y_port_off),0+y_port_off,0+y_port_off])\n",
    "x_span_port = 4*um\n",
    "z_span_port = 4*um\n",
    "mode_selection = 'fundamental TE mode'\n",
    "injection_axis = 'y-axis'"
   ],
   "id": "1c0a17970c02f28",
   "outputs": [],
   "execution_count": 53
  },
  {
   "metadata": {},
   "cell_type": "markdown",
   "source": "## Criando dispositivo",
   "id": "8479f6eb4fae7228"
  },
  {
   "metadata": {
    "ExecuteTime": {
     "end_time": "2025-05-04T17:25:46.069615Z",
     "start_time": "2025-05-04T17:25:28.617659Z"
    }
   },
   "cell_type": "code",
   "source": [
    "for i in range(4):\n",
    "    fdtdApi.addobject('90_bend_wg')\n",
    "    fdtdApi.set('name',f'arco{i}')\n",
    "    fdtdApi.set('material',material_core)\n",
    "    fdtdApi.set('base width',wg_width)\n",
    "    fdtdApi.set('base height',wg_height)\n",
    "    fdtdApi.set('start angle', i*90)\n",
    "    fdtdApi.set('radius',rad)\n",
    "    fdtdApi.set('z',0)\n",
    "    \n",
    "fdtdApi.setnamed('arco0', 'x', 2*rad + lc)\n",
    "fdtdApi.setnamed('arco1', 'x', 2*rad)\n",
    "fdtdApi.setnamed('arco2', 'x', 2*rad)\n",
    "fdtdApi.setnamed('arco3', 'x', 2*rad + lc)\n",
    "\n",
    "fdtdApi.setnamed('arco0', 'y', -(gap+wg_width+2*rad))\n",
    "fdtdApi.setnamed('arco1', 'y', -(gap+wg_width+2*rad))\n",
    "fdtdApi.setnamed('arco2', 'y', 0)\n",
    "fdtdApi.setnamed('arco3', 'y', 0)\n",
    "\n",
    "for i in range(4):\n",
    "    fdtdApi.addrect()\n",
    "    fdtdApi.set('name',f'port{i}')\n",
    "    fdtdApi.set('material',material_core)\n",
    "    fdtdApi.set('x span',wg_width)\n",
    "    fdtdApi.set('y span',portSize)\n",
    "    fdtdApi.set('z span',wg_height)\n",
    "    fdtdApi.set('z',0)\n",
    "    \n",
    "fdtdApi.setnamed('port0', 'y', -(portSize/2 + 2*rad+gap+wg_width))\n",
    "fdtdApi.setnamed('port0', 'x', lc+3*rad)\n",
    "fdtdApi.setnamed('port1', 'y', -(portSize/2 + 2*rad+gap+wg_width))\n",
    "fdtdApi.setnamed('port1', 'x', rad)\n",
    "\n",
    "fdtdApi.setnamed('port2', 'y', portSize/2)\n",
    "fdtdApi.setnamed('port2', 'x', lc+3*rad)\n",
    "fdtdApi.setnamed('port3', 'y', portSize/2)\n",
    "fdtdApi.setnamed('port3', 'x', rad)\n",
    "\n",
    "fdtdApi.addrect()\n",
    "fdtdApi.set('name','wav01')\n",
    "fdtdApi.set('material',material_core)\n",
    "fdtdApi.set('x', 2*rad + lc/2)\n",
    "fdtdApi.set('x span',lc)\n",
    "fdtdApi.set('y', -rad)\n",
    "fdtdApi.set('y span',wg_width)\n",
    "fdtdApi.set('z',0)\n",
    "fdtdApi.set('z span',wg_height)\n",
    "\n",
    "fdtdApi.addrect()\n",
    "fdtdApi.set('name','wav01')\n",
    "fdtdApi.set('material',material_core)\n",
    "fdtdApi.set('x', 2*rad + lc/2)\n",
    "fdtdApi.set('x span',lc)\n",
    "fdtdApi.set('y', -rad-gap-wg_width)\n",
    "fdtdApi.set('y span',wg_width)\n",
    "fdtdApi.set('z',0)\n",
    "fdtdApi.set('z span',wg_height)"
   ],
   "id": "89bfe6a6d759b9f4",
   "outputs": [],
   "execution_count": 23
  },
  {
   "metadata": {},
   "cell_type": "markdown",
   "source": "## Adição do solver FDTD, porta e monitor",
   "id": "a8fe22dbb1674881"
  },
  {
   "metadata": {
    "ExecuteTime": {
     "end_time": "2025-05-04T17:25:48.052353Z",
     "start_time": "2025-05-04T17:25:46.069615Z"
    }
   },
   "cell_type": "code",
   "source": [
    "# solver\n",
    "fdtdApi.addfdtd()\n",
    "fdtdApi.set('x', x_FDTD)\n",
    "fdtdApi.set('x span', x_span_FDTD)\n",
    "fdtdApi.set('y', y_FDTD)\n",
    "fdtdApi.set('y span', y_span_FDTD)\n",
    "fdtdApi.set('z', 0)\n",
    "fdtdApi.set('z span', z_span_FDTD)\n",
    "fdtdApi.set('background material', backGroundMaterial)\n",
    "fdtdApi.set('mesh accuracy', mesh_accuracy)\n",
    "fdtdApi.set('simulation time', simulation_time)\n",
    "fdtdApi.set('z min bc', z_min_bc)"
   ],
   "id": "24e39fd1e7b2cfa4",
   "outputs": [],
   "execution_count": 24
  },
  {
   "metadata": {
    "ExecuteTime": {
     "end_time": "2025-05-04T18:03:47.486228Z",
     "start_time": "2025-05-04T18:03:41.105250Z"
    }
   },
   "cell_type": "code",
   "source": [
    "# portas\n",
    "for i in range(4):\n",
    "    fdtdApi.addport()\n",
    "    fdtdApi.set('name',f'port {i+1}')\n",
    "    fdtdApi.set('x',x_port[i])\n",
    "    fdtdApi.set('x span',x_span_port)\n",
    "    fdtdApi.set('y',y_port[i])\n",
    "    fdtdApi.set('z',0)\n",
    "    fdtdApi.set('z span',z_span_port)\n",
    "    fdtdApi.set('mode selection',mode_selection)\n",
    "    fdtdApi.set('injection axis',injection_axis)\n",
    "for i in range(4):\n",
    "    fdtdApi.select(f'FDTD::ports::port {i+1}')\n",
    "    fdtdApi.set('x span', 4*1e-6)\n",
    "fdtdApi.setnamed('FDTD::ports::port 3','direction','Backward')\n",
    "fdtdApi.setnamed('FDTD::ports::port 4','direction','Backward')"
   ],
   "id": "cc3224dc2dcb2f98",
   "outputs": [],
   "execution_count": 64
  },
  {
   "metadata": {
    "ExecuteTime": {
     "end_time": "2025-05-04T18:03:54.441972Z",
     "start_time": "2025-05-04T18:03:54.033683Z"
    }
   },
   "cell_type": "code",
   "source": [
    "# configuração da banda de simulação\n",
    "fdtdApi.setnamed('FDTD','global source wavelength start',wl_start)\n",
    "fdtdApi.setnamed('FDTD','global source wavelength stop',wl_stop)\n",
    "fdtdApi.setnamed('FDTD::ports','monitor frequency points',nbmFrqPnts)"
   ],
   "id": "3622fdc519b1b647",
   "outputs": [],
   "execution_count": 65
  },
  {
   "metadata": {
    "ExecuteTime": {
     "end_time": "2025-05-04T18:03:55.792028Z",
     "start_time": "2025-05-04T18:03:54.444087Z"
    }
   },
   "cell_type": "code",
   "source": [
    "# monitor de campo - lembrar de desativar para otimização\n",
    "fdtdApi.addprofile()\n",
    "fdtdApi.set('override global monitor settings', True)\n",
    "fdtdApi.set('frequency points', nbmFrqPnts)\n",
    "fdtdApi.set('x', x_FDTD)\n",
    "fdtdApi.set('x span', x_span_FDTD)\n",
    "fdtdApi.set('y', y_FDTD)\n",
    "fdtdApi.set('y span', y_span_FDTD)\n",
    "fdtdApi.set('z', 0)"
   ],
   "id": "350f984db0d70ca3",
   "outputs": [],
   "execution_count": 66
  },
  {
   "metadata": {
    "ExecuteTime": {
     "end_time": "2025-05-04T18:03:56.069987Z",
     "start_time": "2025-05-04T18:03:55.803421Z"
    }
   },
   "cell_type": "code",
   "source": [
    "# salvando arquivo\n",
    "filename ='dc_FDTD_%d_nm_%03d_um'%(gap*nm,lc*1e7)\n",
    "fdtdApi.save(filename)"
   ],
   "id": "37992e9d7af9e709",
   "outputs": [],
   "execution_count": 67
  },
  {
   "metadata": {
    "ExecuteTime": {
     "end_time": "2025-05-04T18:43:41.065555Z",
     "start_time": "2025-05-04T18:03:56.074016Z"
    }
   },
   "cell_type": "code",
   "source": [
    "#simulação\n",
    "fdtdApi.run(3)"
   ],
   "id": "122cd08986d5d1c7",
   "outputs": [],
   "execution_count": 68
  },
  {
   "metadata": {
    "ExecuteTime": {
     "end_time": "2025-05-04T18:43:41.670165Z",
     "start_time": "2025-05-04T18:43:41.079067Z"
    }
   },
   "cell_type": "code",
   "source": [
    "# importando campo elétrico\n",
    "eField = np.abs(np.squeeze(fdtdApi.getelectric('monitor')))**2"
   ],
   "id": "c8e2a4d5eb63584d",
   "outputs": [],
   "execution_count": 69
  },
  {
   "metadata": {
    "ExecuteTime": {
     "end_time": "2025-05-04T18:53:50.375383Z",
     "start_time": "2025-05-04T18:53:49.949741Z"
    }
   },
   "cell_type": "code",
   "source": [
    "# apresentação do campo eletrico obtido\n",
    "indxLamda = 10\n",
    "x_efielf = fdtdApi.getdata('monitor','x')\n",
    "y_efielf = fdtdApi.getdata('monitor','y')\n",
    "freq = fdtdApi.getdata('monitor','f')\n",
    "lmbd = c/freq\n",
    "xmin = um*np.min(x_efielf)\n",
    "xmax = um*np.max(x_efielf)\n",
    "ymin = um*np.min(y_efielf)\n",
    "ymax = um*np.max(y_efielf)"
   ],
   "id": "da1e563fbb8b2e43",
   "outputs": [],
   "execution_count": 77
  },
  {
   "metadata": {
    "ExecuteTime": {
     "end_time": "2025-05-04T18:53:50.627178Z",
     "start_time": "2025-05-04T18:53:50.410607Z"
    }
   },
   "cell_type": "code",
   "source": [
    "# Escala linear\n",
    "fig1 = plt.figure(figsize=(8,8))\n",
    "ax1 = fig1.add_subplot(111)\n",
    "\n",
    "im1 = ax1.imshow(np.rot90(eField[:,:,indxLamda]),cmap= 'jet', extent=[xmin,xmax,ymin,ymax], vmin=0,vmax=1)\n",
    "\n",
    "colorbar = plt.colorbar(im1, fraction=0.02, pad=0.04)\n",
    "colorbar.set_label(r'|E|$^2$')\n",
    "ax1.set_xlabel('x [um]')\n",
    "ax1.set_ylabel('y [um]')\n",
    "ax1.set_title(rf'{lmbd[indxLamda]/um} $\\mu$m')\n",
    "ax1.grid(which='major', alpha=0.25)\n",
    "\n",
    "plt.tight_layout()\n"
   ],
   "id": "cc075b59d75dbb22",
   "outputs": [
    {
     "data": {
      "text/plain": [
       "<Figure size 800x800 with 2 Axes>"
      ],
      "image/png": "[encoded data removed]"
     },
     "metadata": {},
     "output_type": "display_data"
    }
   ],
   "execution_count": 78
  }
 ],
 "metadata": {
  "kernelspec": {
   "display_name": "Python 3",
   "language": "python",
   "name": "python3"
  },
  "language_info": {
   "codemirror_mode": {
    "name": "ipython",
    "version": 2
   },
   "file_extension": ".py",
   "mimetype": "text/x-python",
   "name": "python",
   "nbconvert_exporter": "python",
   "pygments_lexer": "ipython2",
   "version": "2.7.6"
  }
 },
 "nbformat": 4,
 "nbformat_minor": 5
}
