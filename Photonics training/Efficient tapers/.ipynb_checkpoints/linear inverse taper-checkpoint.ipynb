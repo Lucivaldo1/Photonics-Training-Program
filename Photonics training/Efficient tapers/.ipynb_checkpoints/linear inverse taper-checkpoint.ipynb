{
 "cells": [
  {
   "cell_type": "code",
   "id": "initial_id",
   "metadata": {
    "collapsed": true,
    "ExecuteTime": {
     "end_time": "2024-12-11T22:01:07.545123Z",
     "start_time": "2024-12-11T22:01:06.998487Z"
    }
   },
   "source": [
    "import sys, os\n",
    "import numpy as np\n",
    "import matplotlib.pyplot as plt\n",
    "import warnings\n",
    "from scipy import interpolate\n",
    "from matplotlib.pyplot import legend, title\n",
    "from scipy.special import y0_zeros\n",
    "\n",
    "sys.path.append('C:\\\\Program Files\\\\Lumerical\\\\v221\\\\api\\\\python')\n",
    "sys.path.append('C:\\\\Program Files\\\\Lumerical\\\\v221\\\\api\\\\python\\\\lumapi.py')"
   ],
   "outputs": [],
   "execution_count": 1
  },
  {
   "metadata": {
    "ExecuteTime": {
     "end_time": "2024-12-11T22:01:11.070537Z",
     "start_time": "2024-12-11T22:01:07.552125Z"
    }
   },
   "cell_type": "code",
   "source": [
    "warnings.filterwarnings(\"ignore\", category=SyntaxWarning)\n",
    "import lumapi\n",
    "emeApi = lumapi.MODE()"
   ],
   "id": "2b632e2d1c9fdb99",
   "outputs": [],
   "execution_count": 2
  },
  {
   "metadata": {},
   "cell_type": "markdown",
   "source": "Units",
   "id": "4dc6318abe89f13a"
  },
  {
   "metadata": {
    "ExecuteTime": {
     "end_time": "2024-12-11T22:01:11.417362Z",
     "start_time": "2024-12-11T22:01:11.414893Z"
    }
   },
   "cell_type": "code",
   "source": [
    "um = 1e-6\n",
    "nm = 1e-9"
   ],
   "id": "ed7f110a3f29a668",
   "outputs": [],
   "execution_count": 3
  },
  {
   "metadata": {},
   "cell_type": "markdown",
   "source": "Device parameters",
   "id": "51a6688c1c0dfb49"
  },
  {
   "metadata": {
    "ExecuteTime": {
     "end_time": "2024-12-11T22:01:11.446061Z",
     "start_time": "2024-12-11T22:01:11.443783Z"
    }
   },
   "cell_type": "code",
   "source": [
    "#inverse tapers\n",
    "taper_length      = 5*um\n",
    "taper_larger_tip  = 12*um\n",
    "taper_smaller_tip = 0.5*um\n",
    "taper_tip_sweep = np.linspace(0.01*um, 0.55*um,20)\n",
    "\n",
    "#wire waveguide\n",
    "wg_length = 2*um\n",
    "wg_width  = 0.5*um\n",
    "\n",
    "wg_length2 = 3*um\n",
    "wg_width2  = 12*um\n",
    "#general\n",
    "height = 220*nm"
   ],
   "id": "9f37fa0764f08952",
   "outputs": [],
   "execution_count": 4
  },
  {
   "metadata": {},
   "cell_type": "markdown",
   "source": "Materials",
   "id": "da9f6f46f6c5664f"
  },
  {
   "metadata": {
    "ExecuteTime": {
     "end_time": "2024-12-11T22:01:11.496412Z",
     "start_time": "2024-12-11T22:01:11.494720Z"
    }
   },
   "cell_type": "code",
   "source": [
    "materialClad = \"SiO2 (Glass) - Palik\"\n",
    "materialSi = \"Si (Silicon) - Palik\""
   ],
   "id": "f0aeba30f8470250",
   "outputs": [],
   "execution_count": 5
  },
  {
   "metadata": {
    "ExecuteTime": {
     "end_time": "2024-12-11T22:01:11.807343Z",
     "start_time": "2024-12-11T22:01:11.521861Z"
    }
   },
   "cell_type": "code",
   "source": [
    "emeApi.switchtolayout()\n",
    "emeApi.deleteall()\n",
    "emeApi.cleardcard"
   ],
   "id": "b2124d29109d8e95",
   "outputs": [
    {
     "data": {
      "text/plain": [
       "<bound method Lumerical.__init__.<locals>.<lambda>.<locals>.<lambda> of <lumapi.MODE object at 0x0000024D7F9ED040>>"
      ]
     },
     "execution_count": 6,
     "metadata": {},
     "output_type": "execute_result"
    }
   ],
   "execution_count": 6
  },
  {
   "metadata": {
    "ExecuteTime": {
     "end_time": "2024-12-11T22:01:12.523573Z",
     "start_time": "2024-12-11T22:01:11.830658Z"
    }
   },
   "cell_type": "code",
   "source": [
    "emeApi.addstructuregroup()\n",
    "dev_layer = 'GDS_LAYER_35:4'\n",
    "emeApi.set('name', dev_layer)"
   ],
   "id": "fc10572cb3ce3dab",
   "outputs": [],
   "execution_count": 7
  },
  {
   "metadata": {},
   "cell_type": "markdown",
   "source": "Taper",
   "id": "dbb6c6debd1de0bb"
  },
  {
   "metadata": {},
   "cell_type": "markdown",
   "source": [
    " $z′ = \\frac{(z−z0)}{(z1−z0)}$\n",
    " \n",
    "$f(z') = z'$\n",
    "\n",
    "Where z0 is the starting point and z1 is the ending point\n"
   ],
   "id": "a90a55ff11592c72"
  },
  {
   "metadata": {
    "ExecuteTime": {
     "end_time": "2024-12-11T22:01:12.530276Z",
     "start_time": "2024-12-11T22:01:12.527079Z"
    }
   },
   "cell_type": "code",
   "source": [
    "x0 = 0\n",
    "x1 = taper_length\n",
    "y0 = taper_larger_tip/2\n",
    "y1 = taper_smaller_tip/2\n",
    "a, b, c = 0.4,0.5,7\n",
    "x = np.linspace(taper_length,0, 100)\n",
    "#x = np.linspace(0, 1, 100)\n",
    "alpha = (x-x0)/(x1-x0)\n",
    "#alpha = (np.exp((x-x0)/(x1-x0))-1)/(np.exp(1)-1)\n",
    "#alpha =  a*(b*x**2 + (1-b)*x) + (1-a)*np.sin((x*c*np.pi/2))**2\n",
    "equation = y0 + alpha * (y1-y0)\n",
    "\n",
    "#equation =  np.sqrt(taper_smaller_tip**2 + (2 * alpha * lambda0 / neff) * x) \n",
    "#x = x * taper_length\n",
    "upper = np.column_stack((x,equation))\n",
    "lower = np.column_stack((x[::-1], -equation[::-1]))\n",
    "taper = np.vstack((upper, lower))"
   ],
   "id": "2645229b360cb19d",
   "outputs": [],
   "execution_count": 8
  },
  {
   "metadata": {
    "ExecuteTime": {
     "end_time": "2024-12-11T22:01:13.240105Z",
     "start_time": "2024-12-11T22:01:12.540447Z"
    }
   },
   "cell_type": "code",
   "source": [
    "emeApi.addpoly()\n",
    "emeApi.addtogroup(dev_layer)"
   ],
   "id": "6e5c61178ff5b284",
   "outputs": [],
   "execution_count": 9
  },
  {
   "metadata": {
    "ExecuteTime": {
     "end_time": "2024-12-11T22:01:14.507933Z",
     "start_time": "2024-12-11T22:01:13.556416Z"
    }
   },
   "cell_type": "code",
   "source": [
    "emeApi.set('name', 'taper')\n",
    "emeApi.set('vertices', taper)   \n",
    "emeApi.set('x', 0)\n",
    "emeApi.set('y', 0)\n",
    "emeApi.set('z', height/2)\n",
    "emeApi.set('z span', height)\n",
    "emeApi.set('material', materialSi)"
   ],
   "id": "c776d063eccc8085",
   "outputs": [],
   "execution_count": 10
  },
  {
   "metadata": {
    "ExecuteTime": {
     "end_time": "2024-12-11T22:01:14.598165Z",
     "start_time": "2024-12-11T22:01:14.525137Z"
    }
   },
   "cell_type": "code",
   "source": [
    "plt.figure(figsize=(8, 4))\n",
    "plt.plot(x, equation, label=\"Largura do Taper (W(x))\")\n",
    "plt.xlabel(\"Comprimento (µm)\")\n",
    "plt.ylabel(\"Largura (µm)\")\n",
    "plt.title(\"Perfil Adiabático do Taper (Simplificado)\")\n",
    "plt.legend()\n",
    "plt.grid()\n",
    "plt.show()"
   ],
   "id": "c8a206df36ed300a",
   "outputs": [
    {
     "data": {
      "text/plain": [
       "<Figure size 800x400 with 1 Axes>"
      ],
      "image/png": "[encoded data removed]"
     },
     "metadata": {},
     "output_type": "display_data"
    }
   ],
   "execution_count": 11
  },
  {
   "metadata": {},
   "cell_type": "markdown",
   "source": "    Wire waveguide",
   "id": "fa41b7639d9390c5"
  },
  {
   "metadata": {
    "ExecuteTime": {
     "end_time": "2024-12-11T22:01:15.790009Z",
     "start_time": "2024-12-11T22:01:14.604542Z"
    }
   },
   "cell_type": "code",
   "source": [
    "emeApi.addrect()\n",
    "emeApi.addtogroup(dev_layer)\n",
    "emeApi.set('name', 'wire waveguide')\n",
    "emeApi.set('x', taper_length + wg_length/2)\n",
    "emeApi.set('x span', wg_length)\n",
    "emeApi.set('y', 0)\n",
    "emeApi.set('y span', wg_width)\n",
    "emeApi.set('z', height/2)\n",
    "emeApi.set('z span', height)\n",
    "emeApi.set('material', materialSi)"
   ],
   "id": "121d710d196607d2",
   "outputs": [],
   "execution_count": 12
  },
  {
   "metadata": {},
   "cell_type": "markdown",
   "source": "left wave guide",
   "id": "76f147972c6667c9"
  },
  {
   "metadata": {
    "ExecuteTime": {
     "end_time": "2024-12-11T22:01:17.370197Z",
     "start_time": "2024-12-11T22:01:15.810093Z"
    }
   },
   "cell_type": "code",
   "source": [
    "emeApi.addrect()\n",
    "emeApi.addtogroup(dev_layer)\n",
    "emeApi.set('name', 'wire waveguide 2')\n",
    "emeApi.set('x', -wg_length2/2)\n",
    "emeApi.set('x span', wg_length2)\n",
    "emeApi.set('y', 0)\n",
    "emeApi.set('y span', wg_width2)\n",
    "emeApi.set('z', height/2)\n",
    "emeApi.set('z span', height)\n",
    "emeApi.set('material', materialSi)"
   ],
   "id": "197f8e44d8ebe5bc",
   "outputs": [],
   "execution_count": 13
  },
  {
   "metadata": {},
   "cell_type": "markdown",
   "source": "Analysis    ",
   "id": "333b5478e654af7b"
  },
  {
   "metadata": {
    "ExecuteTime": {
     "end_time": "2024-12-11T22:01:17.968970Z",
     "start_time": "2024-12-11T22:01:17.482820Z"
    }
   },
   "cell_type": "code",
   "source": [
    "mesh_cells = 200\n",
    "emeApi.addeme()"
   ],
   "id": "c6009c28cea7ca31",
   "outputs": [
    {
     "data": {
      "text/plain": [
       "<lumapi.SimObject at 0x24d58feba70>"
      ]
     },
     "execution_count": 14,
     "metadata": {},
     "output_type": "execute_result"
    }
   ],
   "execution_count": 14
  },
  {
   "metadata": {
    "ExecuteTime": {
     "end_time": "2024-12-11T22:01:19.306240Z",
     "start_time": "2024-12-11T22:01:18.076555Z"
    }
   },
   "cell_type": "code",
   "source": [
    "emeApi.switchtolayout()\n",
    "emeApi.set('x', 0)\n",
    "emeApi.set('x min', emeApi.getnamed(f'{dev_layer}::wire waveguide 2', 'x min'))\n",
    "emeApi.set('y', 0)\n",
    "emeApi.set('y span', taper_larger_tip*1.5)\n",
    "emeApi.set('z', height/2)\n",
    "emeApi.set('z span', height*1.5) \n",
    "emeApi.set('background material', materialClad)\n",
    "emeApi.set('mesh cells y', mesh_cells)\n",
    "emeApi.set('mesh cells z', mesh_cells)"
   ],
   "id": "7d57fdbcaaf4274d",
   "outputs": [],
   "execution_count": 15
  },
  {
   "metadata": {
    "ExecuteTime": {
     "end_time": "2024-12-11T22:16:24.214609Z",
     "start_time": "2024-12-11T22:16:23.185791Z"
    }
   },
   "cell_type": "code",
   "source": [
    "cell_wgd = 1\n",
    "cell_taper = 15\n",
    "cell_wgd2 = 1\n",
    "\n",
    "method_wgd   = 0\n",
    "method_taper = 1\n",
    "\n",
    "modes_wgd   = 5\n",
    "modes_taper = 30\n",
    "\n",
    "emeApi.set('number of cell groups', 3) #waveguide -> taper -> waveguide\n",
    "emeApi.set('group spans', np.block([[wg_length2], [taper_length], [wg_length]]))\n",
    "emeApi.set('cells', np.block([[cell_wgd], [cell_taper], [cell_wgd2]]))\n",
    "emeApi.set('subcell method', np.block([[method_wgd], [method_taper], [method_wgd]]))\n",
    "emeApi.set('allow custom eigensolver settings', True)\n",
    "emeApi.set('modes', np.block([[modes_wgd], [modes_taper], [modes_wgd]]))\n",
    "emeApi.set('display cells', 1)\n",
    "\n",
    "emeApi.set('min mesh step', 0.5*nm)"
   ],
   "id": "e8217d735f5f33ef",
   "outputs": [],
   "execution_count": 28
  },
  {
   "metadata": {
    "ExecuteTime": {
     "end_time": "2024-12-11T22:16:25.731397Z",
     "start_time": "2024-12-11T22:16:24.214609Z"
    }
   },
   "cell_type": "code",
   "source": [
    "emeApi.addemeprofile()\n",
    "emeApi.set('name', 'profile')\n",
    "emeApi.set('monitor type', 3)\n",
    "emeApi.set('x', 2*um)\n",
    "emeApi.set('x span', emeApi.getnamed('EME', 'x span'))\n",
    "emeApi.set('y',0)\n",
    "emeApi.set('y span', taper_larger_tip*1.5)\n",
    "emeApi.set('z', height/2)"
   ],
   "id": "468879fbbe09f929",
   "outputs": [],
   "execution_count": 29
  },
  {
   "metadata": {},
   "cell_type": "markdown",
   "source": "simulation",
   "id": "dd14a1d0b408526b"
  },
  {
   "metadata": {
    "jupyter": {
     "is_executing": true
    },
    "ExecuteTime": {
     "start_time": "2024-12-11T22:16:25.739473Z"
    }
   },
   "cell_type": "code",
   "source": [
    "emeApi.save('taperEME')\n",
    "emeApi.run()"
   ],
   "id": "45a3b5661ceccdea",
   "outputs": [],
   "execution_count": null
  },
  {
   "metadata": {
    "ExecuteTime": {
     "end_time": "2024-12-11T22:15:49.374381Z",
     "start_time": "2024-12-11T22:15:46.617649Z"
    }
   },
   "cell_type": "code",
   "source": [
    "nmbFrqPnts = 100\n",
    "emeApi.setemeanalysis('propagation sweep', 1)\n",
    "emeApi.setemeanalysis('parameter', 'group span 2')\n",
    "emeApi.setemeanalysis('start',0)\n",
    "emeApi.setemeanalysis('stop', 500*um)\n",
    "emeApi.setemeanalysis('number of points', nmbFrqPnts)\n",
    "emeApi.emesweep('propagation sweep')\n",
    "S = emeApi.getemesweep('S')\n",
    "group_span = S['group_span_2']\n"
   ],
   "id": "f7b1a1b2dc3916f5",
   "outputs": [],
   "execution_count": 26
  },
  {
   "metadata": {
    "ExecuteTime": {
     "end_time": "2024-12-11T22:15:49.472056Z",
     "start_time": "2024-12-11T22:15:49.382728Z"
    }
   },
   "cell_type": "code",
   "source": [
    "T = np.abs(S['s12'])**2\n",
    "T_dB = 10*np.log10(T)\n",
    "plt.plot(group_span/um, T, 'black', lw=1.5, label='S21')\n",
    "plt.xlabel(r'L taper $(\\mu m)$', fontsize = 12)\n",
    "plt.ylabel('Transmitância', fontsize = 12)\n",
    "#plt.xlim([span_box*0.9/um,span_box*1.1/um])\n",
    "#plt.ylim([0,0.55])\n",
    "plt.legend()\n",
    "plt.title(r'Transmitância vs L')\n",
    "plt.grid(True)\n",
    "plt.savefig('T')"
   ],
   "id": "cd19359058acd1e6",
   "outputs": [
    {
     "data": {
      "text/plain": [
       "<Figure size 640x480 with 1 Axes>"
      ],
      "image/png": "[encoded data removed]"
     },
     "metadata": {},
     "output_type": "display_data"
    }
   ],
   "execution_count": 27
  },
  {
   "metadata": {
    "ExecuteTime": {
     "end_time": "2024-12-11T22:04:53.519870Z",
     "start_time": "2024-12-11T22:04:53.517668Z"
    }
   },
   "cell_type": "code",
   "source": "",
   "id": "3af7175c22c2232f",
   "outputs": [],
   "execution_count": null
  }
 ],
 "metadata": {
  "kernelspec": {
   "display_name": "Python 3",
   "language": "python",
   "name": "python3"
  },
  "language_info": {
   "codemirror_mode": {
    "name": "ipython",
    "version": 2
   },
   "file_extension": ".py",
   "mimetype": "text/x-python",
   "name": "python",
   "nbconvert_exporter": "python",
   "pygments_lexer": "ipython2",
   "version": "2.7.6"
  }
 },
 "nbformat": 4,
 "nbformat_minor": 5
}
